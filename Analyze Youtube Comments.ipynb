{
 "cells": [
  {
   "cell_type": "code",
   "execution_count": 257,
   "metadata": {},
   "outputs": [],
   "source": [
    "import pandas as pd\n",
    "import numpy as np\n",
    "import matplotlib.pyplot as plt\n",
    "from nltk.corpus import stopwords\n",
    "from pymystem3 import mystem\n",
    "from string import punctuation\n",
    "from sklearn.feature_extraction.text import CountVectorizer, TfidfVectorizer\n",
    "from sklearn.cluster import DBSCAN\n",
    "import plotly.graph_objs as go\n",
    "from plotly import tools\n",
    "import pickle\n",
    "from matplotlib.pyplot import figure\n",
    "import seaborn as sns\n",
    "from sklearn.decomposition import TruncatedSVD\n",
    "from sklearn.pipeline import Pipeline \n",
    "from sklearn.decomposition import NMF, LatentDirichletAllocation\n",
    "from sklearn.model_selection import GridSearchCV\n",
    "import re\n",
    "import nltk\n",
    "import string\n",
    "import gc"
   ]
  },
  {
   "cell_type": "code",
   "execution_count": 258,
   "metadata": {},
   "outputs": [],
   "source": [
    "pd.set_option(\"display.max_colwidth\", -1)"
   ]
  },
  {
   "cell_type": "code",
   "execution_count": 259,
   "metadata": {},
   "outputs": [],
   "source": [
    "#set regular expressions for tokens\n",
    "emoticons_str = r\"\"\"[\"u\"\\U0001F600-\\U0001F64F\"  # emoticons\n",
    "                      u\"\\U0001F300-\\U0001F5FF\"  # symbols & pictographs\n",
    "                      u\"\\U0001F680-\\U0001F6FF\"  # transport & map symbols\n",
    "                      u\"\\U0001F1E0-\\U0001F1FF\"  # flags (iOS)\n",
    "                      u\"\\U00002500-\\U00002BEF\"  # chinese char\n",
    "                      u\"\\U00002702-\\U000027B0\"\n",
    "                      u\"\\U00002702-\\U000027B0\"\n",
    "                      u\"\\U000024C2-\\U0001F251\"\n",
    "                      u\"\\U0001f926-\\U0001f937\"\n",
    "                      u\"\\U00010000-\\U0010ffff\"\n",
    "                      u\"\\u2640-\\u2642\"\n",
    "                      u\"\\u2600-\\u2B55\"\n",
    "                      u\"\\u200d\"\n",
    "                      u\"\\u23cf\"\n",
    "                      u\"\\u23e9\"\n",
    "                      u\"\\u231a\"\n",
    "                      u\"\\ufe0f\"  # dingbats\n",
    "                      u\"\\u3030\"\n",
    "                      \"]\"\"\"\n",
    "\n",
    "regex_str = [\n",
    "        r'<[^>]+>', # HTML tags\n",
    "        r'(?:@[\\w_]+)', # @-mentions\n",
    "        r\"(?:\\#+[\\w_]+[\\w\\'_\\-]*[\\w_]+)\", # hash-tags\n",
    "        r'http[s]?://(?:[a-z]|[0-9]|[$-_@.&amp;+]|[!*\\(\\),]|(?:%[0-9a-f][0-9a-f]))+', # URLs\n",
    "        r'(?:(?:\\d+,?)+(?:\\.?\\d+)?)', # numbers\n",
    "        r\"(?:[a-z][a-z'\\-_]+[a-z])\", # words with - and '\n",
    "        r'(?:[\\w_]+)', # other words\n",
    "        r'(?:\\S)' # anything else\n",
    "    ]\n",
    "\n",
    "tokens_re = re.compile(r'('+'|'.join(regex_str)+')', re.VERBOSE | re.IGNORECASE)\n",
    "emoticon_re = re.compile(r'^'+emoticons_str+'$', re.VERBOSE | re.IGNORECASE)\n",
    "    \n",
    "def tokenize(s):\n",
    "    return tokens_re.findall(s)\n",
    "\n",
    "def preprocess(s):\n",
    "    '''Tokenize and set all words to lowecase'''\n",
    "    tokens = tokenize(s)\n",
    "    tokens = [token if emoticon_re.search(token) else token.lower() for token in tokens]\n",
    "    return tokens\n",
    "\n",
    "def is_number(s):\n",
    "    number_list = ['0','1','2','3','4','5','6','7','8','9',',','.']\n",
    "    number = True\n",
    "    for c in s:\n",
    "        if c not in number_list:\n",
    "            number = False\n",
    "    return number\n",
    "\n",
    "def clean_comments(comments_in, model_path = None):\n",
    "    '''Remove stopwords and some tokens'''\n",
    "    comments = comments_in.copy() #make copy of the original table \n",
    "    #Get a list of comments\n",
    "    comments = comments.fillna('')\n",
    "    comments_text = comments['Comments'].values\n",
    "    comments_text = list(comments['Comments'].values)\n",
    "    comments[\"text_clean\"] = \"\"\n",
    "\n",
    "    # Create stopword list\n",
    "    stopwords = nltk.corpus.stopwords.words('russian')\n",
    "    stopwords_delete = ['хорошо', 'лучше', 'может', 'никогда', 'нельзя', 'всегда']\n",
    "    stopwords_add = ['это', 'который', \"хотя\", \"кстати\"]\n",
    "            \n",
    "    new_stopwords = []\n",
    "    for word in stopwords:\n",
    "        if word not in stopwords_delete:\n",
    "            new_stopwords.append(word)\n",
    "    stopwords = new_stopwords\n",
    "\n",
    "    if len(stopwords_add) != 0:\n",
    "        stopwords += stopwords_add\n",
    "    punctuation = list(string.punctuation)\n",
    "    punctuation += ['–', '—', '\"', \"¿\", \"¡\"]\n",
    "    stop = stopwords + punctuation + ['rt', 'via']\n",
    "    \n",
    "    for i, comment in enumerate(comments_text):\n",
    "        comments_clean = []\n",
    "        tokens = preprocess(comment)\n",
    "        comment_tok = []\n",
    "        for token in tokens:\n",
    "            if token not in stop and not emoticon_re.search(token) and not is_number(token) and not token.startswith(('#', '@', 'http')):\n",
    "                comment_tok.append(token)\n",
    "\n",
    "        comments_clean.append(comment_tok)\n",
    "        comments[\"text_clean\"][i] = \" \".join(comment_tok)\n",
    "        \n",
    "    return comments\n",
    "\n",
    "def lemmatize(comments_clean):\n",
    "    '''set all words to its initial form (lemmas) and remove the rest of the stopwords'''  \n",
    "    comments_clean[\"text lemmatized\"] = \"\"\n",
    "    comments_text = list(comments_clean['text_clean'].values)\n",
    "\n",
    "    print(\"lemmitizing\")\n",
    "        \n",
    "    for i, comments in enumerate(comments_text):\n",
    "        comments_lem = []\n",
    "        lemmas = stem.lemmatize(comments.lower())\n",
    "        lemmas = \" \".join(lemmas).split()\n",
    "        \n",
    "        for l in lemmas:\n",
    "            if l not in additional_stopwords:\n",
    "               comments_lem.append(l)\n",
    "\n",
    "        comments_clean[\"text lemmatized\"][i] = \" \".join(comments_lem)\n",
    "           \n",
    "    return comments_clean\n",
    "\n",
    "#stopwords to remove after lemmatization \n",
    "additional_stopwords = [\"еще\", \"ещё\", \"меж\", \"зато\", \"пусть\", \"ага\", \"этот\", \"это\", \"почему\", \n",
    "                        \"весь\", \"ты\", \"он\", \"она\", \"они\", \"оно\", \"мы\", \"вы\", \"кто\", \"что\", \n",
    "                        \"сам\", \"сама\", \"само\", \"свой\", \"наш\", \"ваш\", \"их\", \"тот\", \"та\", \"те\", \n",
    "                        \"то\", \"раз\", \"твой\", \"мой\", \"кой\", \"кое\", \"все\", \"весь\", \"всё\", \"быть\", \"тот\", \n",
    "                        \"таки\", \"такой\", \"какой\", \"каждый\", \"который\", \"и\", \"а\", \"в\", \"б\", \"д\", \n",
    "                        \"е\", \"ж\", \"з\", \"к\", \"л\", \"м\", \"н\", \"о\", \"п\", \"р\", \"с\", \"у\", \"ф\", \"ч\", \n",
    "                        \"ц\", \"ш\", \"щ\", \"ь\", \"ъ\",\"э\", \"ю\", \"я\"]\n",
    "\n",
    "\n",
    "#comments for me\n",
    "#251081 rows × 4 columns\n",
    "#after clean_comments = [i for i in df['text_clean'].values if i != '']\n",
    "#len(clean_comments) = 247543\n",
    "#load comments from .CSV\n",
    "#comments = pd.read_csv('comments.csv', sep=',')\n",
    "#comments = comments.fillna('')\n",
    "#make new dataframe with column \"clean text\", where the text without stopwords and punctuation is saved"
   ]
  },
  {
   "cell_type": "code",
   "execution_count": 260,
   "metadata": {},
   "outputs": [],
   "source": [
    "def show_topics(vectorizer, lda_model, n_words=10):\n",
    "    '''Show top n keywords for each topic'''\n",
    "    keywords = np.array(vectorizer.get_feature_names())\n",
    "    topic_keywords = []\n",
    "    for topic_weights in lda_model.components_:\n",
    "        top_keyword_locs = (-topic_weights).argsort()[:n_words]\n",
    "        topic_keywords.append(keywords.take(top_keyword_locs))\n",
    "    df_topic_keywords = pd.DataFrame(topic_keywords)\n",
    "    df_topic_keywords.columns = ['Word '+str(i) for i in range(df_topic_keywords.shape[1])]\n",
    "    df_topic_keywords.index = ['Topic '+str(i) for i in range(df_topic_keywords.shape[0])]\n",
    "    \n",
    "    return df_topic_keywords"
   ]
  },
  {
   "cell_type": "code",
   "execution_count": 261,
   "metadata": {},
   "outputs": [],
   "source": [
    "def get_percantage(vals):\n",
    "    return vals/ vals.sum() * 100 "
   ]
  },
  {
   "cell_type": "code",
   "execution_count": 262,
   "metadata": {},
   "outputs": [],
   "source": [
    "def Encoder(topic):\n",
    "    '''Encodes a topic into numbers'''\n",
    "    \n",
    "    topic_encoder = LabelEncoder()\n",
    "    topic = topic_encoder.fit_transform(topic)\n",
    "    return topic"
   ]
  },
  {
   "cell_type": "code",
   "execution_count": 263,
   "metadata": {},
   "outputs": [],
   "source": [
    "\n",
    "stem = mystem.Mystem()\n",
    "\n",
    "def preprocess_text(text):\n",
    "    \"\"\"Text preprocess function\"\"\"\n",
    "    \n",
    "    tokens = stem.lemmatize(text.lower())\n",
    "    tokens = [token for token in tokens\n",
    "              if token != \" \" and token != \"\\n\"\n",
    "              and token.strip() not in punctuation]\n",
    "\n",
    "    text = \" \".join(tokens)\n",
    "    \n",
    "    return text"
   ]
  },
  {
   "cell_type": "code",
   "execution_count": 264,
   "metadata": {},
   "outputs": [],
   "source": [
    "def get_df_sentiment_counts(dups_df, df, n):\n",
    "    \n",
    "    author_less_n = dups_df[dups_df['records'] < n]['author']\n",
    "    sentiments_less_n = df[df['author'].isin(author_less_n)]['sentimensts']\n",
    "    df_sentiment_counts = sentiments_less_n.value_counts().rename_axis('sentiment').reset_index(name='counts')\n",
    "    df_sentiment_counts = df_sentiment_counts.sort_values(by=['sentiment'])\n",
    "    \n",
    "    return df_sentiment_counts"
   ]
  },
  {
   "cell_type": "code",
   "execution_count": 265,
   "metadata": {},
   "outputs": [],
   "source": [
    "def get_top_n_grams(corpus, rng = (1, 1), n = None):\n",
    "    \n",
    "    vec = CountVectorizer(analyzer='word', ngram_range = rng)\n",
    "    bag_of_words = vec.fit_transform(corpus)\n",
    "    sum_words = bag_of_words.sum(axis=0) \n",
    "    words_freq = [(word, sum_words[0, idx]) for word, idx in vec.vocabulary_.items()]\n",
    "    words_freq =sorted(words_freq, key = lambda x: x[1], reverse=True)\n",
    "    \n",
    "    return get_freq_and_words(words_freq, n)"
   ]
  },
  {
   "cell_type": "code",
   "execution_count": 266,
   "metadata": {},
   "outputs": [],
   "source": [
    "def get_freq_and_words(word_and_freq, n=None ) :\n",
    "    words = []\n",
    "    freq = []\n",
    "    russian_stopwords = stopwords.words(\"russian\")\n",
    "    extra_stopwords = ['который', 'это', 'свой']\n",
    "    russian_stopwords.extend(extra_stopwords)\n",
    "    \n",
    "    for i in range(len(word_and_freq)):\n",
    "        if word_and_freq[i][0] not in russian_stopwords:\n",
    "            words.append(word_and_freq[i][0])\n",
    "            freq.append(word_and_freq[i][1])\n",
    "            \n",
    "    return words[:n], freq[:n]"
   ]
  },
  {
   "cell_type": "code",
   "execution_count": 267,
   "metadata": {},
   "outputs": [],
   "source": [
    "def get_bars(words_1, freq_1, words_2, freq_2):\n",
    "    n_gram1, n_gram2 = len(words_1[0].split()), len(words_2[0].split())\n",
    "    trace0 = go.Bar(\n",
    "        y=words_1,\n",
    "        x=freq_1,\n",
    "        name='Number of {}-grams'.format(n_gram1),\n",
    "        orientation='h',\n",
    "        marker=dict(color='rgb(49,130,189)')\n",
    "    )\n",
    "    trace1 = go.Bar(\n",
    "        y=words_2,\n",
    "        x=freq_2,\n",
    "        name='Number of {}-grams'.format(n_gram2),\n",
    "        orientation='h',\n",
    "        marker=dict(color='rgb(204,204,204)')\n",
    "    )\n",
    "    fig = tools.make_subplots(rows=1, cols=2, print_grid=False)\n",
    "    fig.append_trace(trace0, 1, 1)\n",
    "    fig.append_trace(trace1, 1, 2)\n",
    "\n",
    "    fig['layout'].update(\n",
    "        height=600, width=800,\n",
    "        title='{}-grams and {}-grams in comments'.format(n_gram1, n_gram2),\n",
    "        margin=dict(l=150, r=10, t=100, b=100),\n",
    "        legend=dict(orientation=\"h\")\n",
    "    )\n",
    "    fig['layout']['xaxis1'].update(domain=[0, 0.40])\n",
    "    fig['layout']['xaxis2'].update(domain=[0.6, 1])\n",
    "    fig.show()"
   ]
  },
  {
   "cell_type": "code",
   "execution_count": 268,
   "metadata": {},
   "outputs": [],
   "source": [
    "def get_3_sentiment_bars(bar_1, bar_2, bar_3):\n",
    "    #set figsize\n",
    "    figure(num=None, figsize=(8, 5), dpi=250, facecolor='w', edgecolor='k')\n",
    "\n",
    "    # set width of bar\n",
    "    barWidth = 0.25\n",
    "\n",
    "    # Set position of bar on X axis\n",
    "    r1 = np.arange(len(bars_less2))\n",
    "    r2 = [x + barWidth for x in r1]\n",
    "    r3 = [x + barWidth for x in r2]\n",
    "    r4 = [x + barWidth for x in r3]\n",
    "    r5 = [x + barWidth for x in r4]\n",
    "\n",
    "    # Make the plot\n",
    "    plt.bar(r1, bar_1, color='#FF0000', width=barWidth, edgecolor='black', label='<2')\n",
    "    plt.bar(r2, bar_2, color='#808080', width=barWidth, edgecolor='black', label='<3')\n",
    "    plt.bar(r3, bar_3, color='#ffff00', width=barWidth, edgecolor='black', label='All')\n",
    "\n",
    "    # Add xticks on the middle of the group bars\n",
    "    plt.xlabel('Sentiment', fontweight='bold')\n",
    "    plt.xticks([r + barWidth for r in range(len(bar_2))], ['negative', 'neutral', 'positive', 'skip', 'speech'])\n",
    " \n",
    "    # Create legend & Show graphic\n",
    "    plt.legend()\n",
    "    plt.show()"
   ]
  },
  {
   "cell_type": "code",
   "execution_count": 269,
   "metadata": {},
   "outputs": [
    {
     "name": "stderr",
     "output_type": "stream",
     "text": [
      "/home/aigaf/anaconda3/lib/python3.7/site-packages/IPython/core/interactiveshell.py:3072: DtypeWarning:\n",
      "\n",
      "Columns (0,3) have mixed types. Specify dtype option on import or set low_memory=False.\n",
      "\n"
     ]
    }
   ],
   "source": [
    "df = pd.read_csv('comments_V6.csv')\n",
    "df = df.drop(['Reply Count', 'Reply Count', 'Like Count', 'Viewer Rating','id','published At'], axis = 1)\n",
    "df['char length'] = df['Comments'].str.len()\n",
    "df['word length'] = np.array(list(map(len, df['Comments'].str.split(' '))))"
   ]
  },
  {
   "cell_type": "code",
   "execution_count": 270,
   "metadata": {},
   "outputs": [],
   "source": [
    "df = df.dropna()\n",
    "df = df.set_index(np.arange(len(df.index)))"
   ]
  },
  {
   "cell_type": "code",
   "execution_count": 271,
   "metadata": {},
   "outputs": [
    {
     "data": {
      "text/html": [
       "<div>\n",
       "<style scoped>\n",
       "    .dataframe tbody tr th:only-of-type {\n",
       "        vertical-align: middle;\n",
       "    }\n",
       "\n",
       "    .dataframe tbody tr th {\n",
       "        vertical-align: top;\n",
       "    }\n",
       "\n",
       "    .dataframe thead th {\n",
       "        text-align: right;\n",
       "    }\n",
       "</style>\n",
       "<table border=\"1\" class=\"dataframe\">\n",
       "  <thead>\n",
       "    <tr style=\"text-align: right;\">\n",
       "      <th></th>\n",
       "      <th>Comments</th>\n",
       "      <th>author</th>\n",
       "      <th>updated Times</th>\n",
       "      <th>char length</th>\n",
       "      <th>word length</th>\n",
       "    </tr>\n",
       "  </thead>\n",
       "  <tbody>\n",
       "    <tr>\n",
       "      <th>0</th>\n",
       "      <td>Кто из 2051?</td>\n",
       "      <td>Seva178</td>\n",
       "      <td>2020-08-26T07:42:33Z</td>\n",
       "      <td>12</td>\n",
       "      <td>3</td>\n",
       "    </tr>\n",
       "    <tr>\n",
       "      <th>1</th>\n",
       "      <td>Моя мечта</td>\n",
       "      <td>Crystal 5000</td>\n",
       "      <td>2020-08-21T23:57:35Z</td>\n",
       "      <td>9</td>\n",
       "      <td>2</td>\n",
       "    </tr>\n",
       "    <tr>\n",
       "      <th>2</th>\n",
       "      <td>бомба самчик.........</td>\n",
       "      <td>Ирина Ирина</td>\n",
       "      <td>2020-08-21T14:04:18Z</td>\n",
       "      <td>21</td>\n",
       "      <td>2</td>\n",
       "    </tr>\n",
       "    <tr>\n",
       "      <th>3</th>\n",
       "      <td>Вроде бы неделю назад вышел оказывается год назад</td>\n",
       "      <td>Мадияр Кинеев</td>\n",
       "      <td>2020-08-21T12:44:25Z</td>\n",
       "      <td>49</td>\n",
       "      <td>8</td>\n",
       "    </tr>\n",
       "    <tr>\n",
       "      <th>4</th>\n",
       "      <td>Хороший телефон</td>\n",
       "      <td>Эмиль Исаев</td>\n",
       "      <td>2020-08-20T17:10:08Z</td>\n",
       "      <td>15</td>\n",
       "      <td>2</td>\n",
       "    </tr>\n",
       "    <tr>\n",
       "      <th>...</th>\n",
       "      <td>...</td>\n",
       "      <td>...</td>\n",
       "      <td>...</td>\n",
       "      <td>...</td>\n",
       "      <td>...</td>\n",
       "    </tr>\n",
       "    <tr>\n",
       "      <th>266595</th>\n",
       "      <td>Дарова</td>\n",
       "      <td>Foster228 ;D</td>\n",
       "      <td>2019-04-16T10:00:38Z</td>\n",
       "      <td>6</td>\n",
       "      <td>1</td>\n",
       "    </tr>\n",
       "    <tr>\n",
       "      <th>266596</th>\n",
       "      <td>Я первый</td>\n",
       "      <td>Валерий Герасименко</td>\n",
       "      <td>2019-04-16T10:00:35Z</td>\n",
       "      <td>8</td>\n",
       "      <td>2</td>\n",
       "    </tr>\n",
       "    <tr>\n",
       "      <th>266597</th>\n",
       "      <td>1</td>\n",
       "      <td>Никита Дедюхин</td>\n",
       "      <td>2019-04-16T10:00:34Z</td>\n",
       "      <td>1</td>\n",
       "      <td>1</td>\n",
       "    </tr>\n",
       "    <tr>\n",
       "      <th>266598</th>\n",
       "      <td>Кайф</td>\n",
       "      <td>ARTHUR SHAKIROV</td>\n",
       "      <td>2019-04-16T10:00:32Z</td>\n",
       "      <td>4</td>\n",
       "      <td>1</td>\n",
       "    </tr>\n",
       "    <tr>\n",
       "      <th>266599</th>\n",
       "      <td>Первый</td>\n",
       "      <td>Fr1des</td>\n",
       "      <td>2019-04-16T10:00:58Z</td>\n",
       "      <td>6</td>\n",
       "      <td>1</td>\n",
       "    </tr>\n",
       "  </tbody>\n",
       "</table>\n",
       "<p>266600 rows × 5 columns</p>\n",
       "</div>"
      ],
      "text/plain": [
       "                                                 Comments  \\\n",
       "0       Кто из 2051?                                        \n",
       "1       Моя мечта                                           \n",
       "2       бомба самчик.........                               \n",
       "3       Вроде бы неделю назад вышел оказывается год назад   \n",
       "4       Хороший телефон                                     \n",
       "...                 ...                                     \n",
       "266595  Дарова                                              \n",
       "266596  Я первый                                            \n",
       "266597  1                                                   \n",
       "266598  Кайф                                                \n",
       "266599  Первый                                              \n",
       "\n",
       "                     author         updated Times  char length  word length  \n",
       "0       Seva178              2020-08-26T07:42:33Z  12           3            \n",
       "1       Crystal 5000         2020-08-21T23:57:35Z  9            2            \n",
       "2       Ирина Ирина          2020-08-21T14:04:18Z  21           2            \n",
       "3       Мадияр Кинеев        2020-08-21T12:44:25Z  49           8            \n",
       "4       Эмиль Исаев          2020-08-20T17:10:08Z  15           2            \n",
       "...             ...                           ...  ..          ..            \n",
       "266595  Foster228 ;D         2019-04-16T10:00:38Z  6            1            \n",
       "266596  Валерий Герасименко  2019-04-16T10:00:35Z  8            2            \n",
       "266597  Никита Дедюхин       2019-04-16T10:00:34Z  1            1            \n",
       "266598  ARTHUR SHAKIROV      2019-04-16T10:00:32Z  4            1            \n",
       "266599  Fr1des               2019-04-16T10:00:58Z  6            1            \n",
       "\n",
       "[266600 rows x 5 columns]"
      ]
     },
     "execution_count": 271,
     "metadata": {},
     "output_type": "execute_result"
    }
   ],
   "source": [
    "df"
   ]
  },
  {
   "cell_type": "markdown",
   "metadata": {},
   "source": [
    "# Find popular n-grams"
   ]
  },
  {
   "cell_type": "code",
   "execution_count": 272,
   "metadata": {},
   "outputs": [
    {
     "name": "stderr",
     "output_type": "stream",
     "text": [
      "/home/aigaf/anaconda3/lib/python3.7/site-packages/plotly/tools.py:465: DeprecationWarning:\n",
      "\n",
      "plotly.tools.make_subplots is deprecated, please use plotly.subplots.make_subplots instead\n",
      "\n"
     ]
    },
    {
     "data": {
      "application/vnd.plotly.v1+json": {
       "config": {
        "plotlyServerURL": "https://plot.ly"
       },
       "data": [
        {
         "marker": {
          "color": "rgb(49,130,189)"
         },
         "name": "Number of 1-grams",
         "orientation": "h",
         "type": "bar",
         "x": [
          27570,
          19010,
          10139,
          8127,
          7834,
          7790,
          7030,
          6910,
          6258,
          5336,
          5304,
          5124,
          5106,
          4558,
          4530
         ],
         "xaxis": "x",
         "y": [
          "хочу",
          "телефон",
          "очень",
          "круто",
          "самсунг",
          "крутой",
          "просто",
          "fold",
          "смартфон",
          "топ",
          "интересно",
          "будущее",
          "участвую",
          "выиграть",
          "samsung"
         ],
         "yaxis": "y"
        },
        {
         "marker": {
          "color": "rgb(204,204,204)"
         },
         "name": "Number of 2-grams",
         "orientation": "h",
         "type": "bar",
         "x": [
          3390,
          2892,
          2196,
          1734,
          1733,
          1680,
          1643,
          1601,
          1573,
          1568,
          1403,
          1384,
          1183,
          1134,
          1093
         ],
         "xaxis": "x2",
         "y": [
          "galaxy fold",
          "хочу хочу",
          "что то",
          "крутой телефон",
          "спасибо за",
          "вот это",
          "этот телефон",
          "хочу его",
          "всем удачи",
          "хочу выиграть",
          "хочу такой",
          "хотелось бы",
          "очень крутой",
          "как всегда",
          "это просто"
         ],
         "yaxis": "y2"
        }
       ],
       "layout": {
        "height": 600,
        "legend": {
         "orientation": "h"
        },
        "margin": {
         "b": 100,
         "l": 150,
         "r": 10,
         "t": 100
        },
        "template": {
         "data": {
          "bar": [
           {
            "error_x": {
             "color": "#2a3f5f"
            },
            "error_y": {
             "color": "#2a3f5f"
            },
            "marker": {
             "line": {
              "color": "#E5ECF6",
              "width": 0.5
             }
            },
            "type": "bar"
           }
          ],
          "barpolar": [
           {
            "marker": {
             "line": {
              "color": "#E5ECF6",
              "width": 0.5
             }
            },
            "type": "barpolar"
           }
          ],
          "carpet": [
           {
            "aaxis": {
             "endlinecolor": "#2a3f5f",
             "gridcolor": "white",
             "linecolor": "white",
             "minorgridcolor": "white",
             "startlinecolor": "#2a3f5f"
            },
            "baxis": {
             "endlinecolor": "#2a3f5f",
             "gridcolor": "white",
             "linecolor": "white",
             "minorgridcolor": "white",
             "startlinecolor": "#2a3f5f"
            },
            "type": "carpet"
           }
          ],
          "choropleth": [
           {
            "colorbar": {
             "outlinewidth": 0,
             "ticks": ""
            },
            "type": "choropleth"
           }
          ],
          "contour": [
           {
            "colorbar": {
             "outlinewidth": 0,
             "ticks": ""
            },
            "colorscale": [
             [
              0,
              "#0d0887"
             ],
             [
              0.1111111111111111,
              "#46039f"
             ],
             [
              0.2222222222222222,
              "#7201a8"
             ],
             [
              0.3333333333333333,
              "#9c179e"
             ],
             [
              0.4444444444444444,
              "#bd3786"
             ],
             [
              0.5555555555555556,
              "#d8576b"
             ],
             [
              0.6666666666666666,
              "#ed7953"
             ],
             [
              0.7777777777777778,
              "#fb9f3a"
             ],
             [
              0.8888888888888888,
              "#fdca26"
             ],
             [
              1,
              "#f0f921"
             ]
            ],
            "type": "contour"
           }
          ],
          "contourcarpet": [
           {
            "colorbar": {
             "outlinewidth": 0,
             "ticks": ""
            },
            "type": "contourcarpet"
           }
          ],
          "heatmap": [
           {
            "colorbar": {
             "outlinewidth": 0,
             "ticks": ""
            },
            "colorscale": [
             [
              0,
              "#0d0887"
             ],
             [
              0.1111111111111111,
              "#46039f"
             ],
             [
              0.2222222222222222,
              "#7201a8"
             ],
             [
              0.3333333333333333,
              "#9c179e"
             ],
             [
              0.4444444444444444,
              "#bd3786"
             ],
             [
              0.5555555555555556,
              "#d8576b"
             ],
             [
              0.6666666666666666,
              "#ed7953"
             ],
             [
              0.7777777777777778,
              "#fb9f3a"
             ],
             [
              0.8888888888888888,
              "#fdca26"
             ],
             [
              1,
              "#f0f921"
             ]
            ],
            "type": "heatmap"
           }
          ],
          "heatmapgl": [
           {
            "colorbar": {
             "outlinewidth": 0,
             "ticks": ""
            },
            "colorscale": [
             [
              0,
              "#0d0887"
             ],
             [
              0.1111111111111111,
              "#46039f"
             ],
             [
              0.2222222222222222,
              "#7201a8"
             ],
             [
              0.3333333333333333,
              "#9c179e"
             ],
             [
              0.4444444444444444,
              "#bd3786"
             ],
             [
              0.5555555555555556,
              "#d8576b"
             ],
             [
              0.6666666666666666,
              "#ed7953"
             ],
             [
              0.7777777777777778,
              "#fb9f3a"
             ],
             [
              0.8888888888888888,
              "#fdca26"
             ],
             [
              1,
              "#f0f921"
             ]
            ],
            "type": "heatmapgl"
           }
          ],
          "histogram": [
           {
            "marker": {
             "colorbar": {
              "outlinewidth": 0,
              "ticks": ""
             }
            },
            "type": "histogram"
           }
          ],
          "histogram2d": [
           {
            "colorbar": {
             "outlinewidth": 0,
             "ticks": ""
            },
            "colorscale": [
             [
              0,
              "#0d0887"
             ],
             [
              0.1111111111111111,
              "#46039f"
             ],
             [
              0.2222222222222222,
              "#7201a8"
             ],
             [
              0.3333333333333333,
              "#9c179e"
             ],
             [
              0.4444444444444444,
              "#bd3786"
             ],
             [
              0.5555555555555556,
              "#d8576b"
             ],
             [
              0.6666666666666666,
              "#ed7953"
             ],
             [
              0.7777777777777778,
              "#fb9f3a"
             ],
             [
              0.8888888888888888,
              "#fdca26"
             ],
             [
              1,
              "#f0f921"
             ]
            ],
            "type": "histogram2d"
           }
          ],
          "histogram2dcontour": [
           {
            "colorbar": {
             "outlinewidth": 0,
             "ticks": ""
            },
            "colorscale": [
             [
              0,
              "#0d0887"
             ],
             [
              0.1111111111111111,
              "#46039f"
             ],
             [
              0.2222222222222222,
              "#7201a8"
             ],
             [
              0.3333333333333333,
              "#9c179e"
             ],
             [
              0.4444444444444444,
              "#bd3786"
             ],
             [
              0.5555555555555556,
              "#d8576b"
             ],
             [
              0.6666666666666666,
              "#ed7953"
             ],
             [
              0.7777777777777778,
              "#fb9f3a"
             ],
             [
              0.8888888888888888,
              "#fdca26"
             ],
             [
              1,
              "#f0f921"
             ]
            ],
            "type": "histogram2dcontour"
           }
          ],
          "mesh3d": [
           {
            "colorbar": {
             "outlinewidth": 0,
             "ticks": ""
            },
            "type": "mesh3d"
           }
          ],
          "parcoords": [
           {
            "line": {
             "colorbar": {
              "outlinewidth": 0,
              "ticks": ""
             }
            },
            "type": "parcoords"
           }
          ],
          "pie": [
           {
            "automargin": true,
            "type": "pie"
           }
          ],
          "scatter": [
           {
            "marker": {
             "colorbar": {
              "outlinewidth": 0,
              "ticks": ""
             }
            },
            "type": "scatter"
           }
          ],
          "scatter3d": [
           {
            "line": {
             "colorbar": {
              "outlinewidth": 0,
              "ticks": ""
             }
            },
            "marker": {
             "colorbar": {
              "outlinewidth": 0,
              "ticks": ""
             }
            },
            "type": "scatter3d"
           }
          ],
          "scattercarpet": [
           {
            "marker": {
             "colorbar": {
              "outlinewidth": 0,
              "ticks": ""
             }
            },
            "type": "scattercarpet"
           }
          ],
          "scattergeo": [
           {
            "marker": {
             "colorbar": {
              "outlinewidth": 0,
              "ticks": ""
             }
            },
            "type": "scattergeo"
           }
          ],
          "scattergl": [
           {
            "marker": {
             "colorbar": {
              "outlinewidth": 0,
              "ticks": ""
             }
            },
            "type": "scattergl"
           }
          ],
          "scattermapbox": [
           {
            "marker": {
             "colorbar": {
              "outlinewidth": 0,
              "ticks": ""
             }
            },
            "type": "scattermapbox"
           }
          ],
          "scatterpolar": [
           {
            "marker": {
             "colorbar": {
              "outlinewidth": 0,
              "ticks": ""
             }
            },
            "type": "scatterpolar"
           }
          ],
          "scatterpolargl": [
           {
            "marker": {
             "colorbar": {
              "outlinewidth": 0,
              "ticks": ""
             }
            },
            "type": "scatterpolargl"
           }
          ],
          "scatterternary": [
           {
            "marker": {
             "colorbar": {
              "outlinewidth": 0,
              "ticks": ""
             }
            },
            "type": "scatterternary"
           }
          ],
          "surface": [
           {
            "colorbar": {
             "outlinewidth": 0,
             "ticks": ""
            },
            "colorscale": [
             [
              0,
              "#0d0887"
             ],
             [
              0.1111111111111111,
              "#46039f"
             ],
             [
              0.2222222222222222,
              "#7201a8"
             ],
             [
              0.3333333333333333,
              "#9c179e"
             ],
             [
              0.4444444444444444,
              "#bd3786"
             ],
             [
              0.5555555555555556,
              "#d8576b"
             ],
             [
              0.6666666666666666,
              "#ed7953"
             ],
             [
              0.7777777777777778,
              "#fb9f3a"
             ],
             [
              0.8888888888888888,
              "#fdca26"
             ],
             [
              1,
              "#f0f921"
             ]
            ],
            "type": "surface"
           }
          ],
          "table": [
           {
            "cells": {
             "fill": {
              "color": "#EBF0F8"
             },
             "line": {
              "color": "white"
             }
            },
            "header": {
             "fill": {
              "color": "#C8D4E3"
             },
             "line": {
              "color": "white"
             }
            },
            "type": "table"
           }
          ]
         },
         "layout": {
          "annotationdefaults": {
           "arrowcolor": "#2a3f5f",
           "arrowhead": 0,
           "arrowwidth": 1
          },
          "coloraxis": {
           "colorbar": {
            "outlinewidth": 0,
            "ticks": ""
           }
          },
          "colorscale": {
           "diverging": [
            [
             0,
             "#8e0152"
            ],
            [
             0.1,
             "#c51b7d"
            ],
            [
             0.2,
             "#de77ae"
            ],
            [
             0.3,
             "#f1b6da"
            ],
            [
             0.4,
             "#fde0ef"
            ],
            [
             0.5,
             "#f7f7f7"
            ],
            [
             0.6,
             "#e6f5d0"
            ],
            [
             0.7,
             "#b8e186"
            ],
            [
             0.8,
             "#7fbc41"
            ],
            [
             0.9,
             "#4d9221"
            ],
            [
             1,
             "#276419"
            ]
           ],
           "sequential": [
            [
             0,
             "#0d0887"
            ],
            [
             0.1111111111111111,
             "#46039f"
            ],
            [
             0.2222222222222222,
             "#7201a8"
            ],
            [
             0.3333333333333333,
             "#9c179e"
            ],
            [
             0.4444444444444444,
             "#bd3786"
            ],
            [
             0.5555555555555556,
             "#d8576b"
            ],
            [
             0.6666666666666666,
             "#ed7953"
            ],
            [
             0.7777777777777778,
             "#fb9f3a"
            ],
            [
             0.8888888888888888,
             "#fdca26"
            ],
            [
             1,
             "#f0f921"
            ]
           ],
           "sequentialminus": [
            [
             0,
             "#0d0887"
            ],
            [
             0.1111111111111111,
             "#46039f"
            ],
            [
             0.2222222222222222,
             "#7201a8"
            ],
            [
             0.3333333333333333,
             "#9c179e"
            ],
            [
             0.4444444444444444,
             "#bd3786"
            ],
            [
             0.5555555555555556,
             "#d8576b"
            ],
            [
             0.6666666666666666,
             "#ed7953"
            ],
            [
             0.7777777777777778,
             "#fb9f3a"
            ],
            [
             0.8888888888888888,
             "#fdca26"
            ],
            [
             1,
             "#f0f921"
            ]
           ]
          },
          "colorway": [
           "#636efa",
           "#EF553B",
           "#00cc96",
           "#ab63fa",
           "#FFA15A",
           "#19d3f3",
           "#FF6692",
           "#B6E880",
           "#FF97FF",
           "#FECB52"
          ],
          "font": {
           "color": "#2a3f5f"
          },
          "geo": {
           "bgcolor": "white",
           "lakecolor": "white",
           "landcolor": "#E5ECF6",
           "showlakes": true,
           "showland": true,
           "subunitcolor": "white"
          },
          "hoverlabel": {
           "align": "left"
          },
          "hovermode": "closest",
          "mapbox": {
           "style": "light"
          },
          "paper_bgcolor": "white",
          "plot_bgcolor": "#E5ECF6",
          "polar": {
           "angularaxis": {
            "gridcolor": "white",
            "linecolor": "white",
            "ticks": ""
           },
           "bgcolor": "#E5ECF6",
           "radialaxis": {
            "gridcolor": "white",
            "linecolor": "white",
            "ticks": ""
           }
          },
          "scene": {
           "xaxis": {
            "backgroundcolor": "#E5ECF6",
            "gridcolor": "white",
            "gridwidth": 2,
            "linecolor": "white",
            "showbackground": true,
            "ticks": "",
            "zerolinecolor": "white"
           },
           "yaxis": {
            "backgroundcolor": "#E5ECF6",
            "gridcolor": "white",
            "gridwidth": 2,
            "linecolor": "white",
            "showbackground": true,
            "ticks": "",
            "zerolinecolor": "white"
           },
           "zaxis": {
            "backgroundcolor": "#E5ECF6",
            "gridcolor": "white",
            "gridwidth": 2,
            "linecolor": "white",
            "showbackground": true,
            "ticks": "",
            "zerolinecolor": "white"
           }
          },
          "shapedefaults": {
           "line": {
            "color": "#2a3f5f"
           }
          },
          "ternary": {
           "aaxis": {
            "gridcolor": "white",
            "linecolor": "white",
            "ticks": ""
           },
           "baxis": {
            "gridcolor": "white",
            "linecolor": "white",
            "ticks": ""
           },
           "bgcolor": "#E5ECF6",
           "caxis": {
            "gridcolor": "white",
            "linecolor": "white",
            "ticks": ""
           }
          },
          "title": {
           "x": 0.05
          },
          "xaxis": {
           "automargin": true,
           "gridcolor": "white",
           "linecolor": "white",
           "ticks": "",
           "title": {
            "standoff": 15
           },
           "zerolinecolor": "white",
           "zerolinewidth": 2
          },
          "yaxis": {
           "automargin": true,
           "gridcolor": "white",
           "linecolor": "white",
           "ticks": "",
           "title": {
            "standoff": 15
           },
           "zerolinecolor": "white",
           "zerolinewidth": 2
          }
         }
        },
        "title": {
         "text": "1-grams and 2-grams in comments"
        },
        "width": 800,
        "xaxis": {
         "anchor": "y",
         "domain": [
          0,
          0.4
         ]
        },
        "xaxis2": {
         "anchor": "y2",
         "domain": [
          0.6,
          1
         ]
        },
        "yaxis": {
         "anchor": "x",
         "domain": [
          0,
          1
         ]
        },
        "yaxis2": {
         "anchor": "x2",
         "domain": [
          0,
          1
         ]
        }
       }
      },
      "text/html": [
       "<div>\n",
       "        \n",
       "        \n",
       "            <div id=\"94e506b7-d7f1-4533-ada8-3f39728fbfc5\" class=\"plotly-graph-div\" style=\"height:600px; width:800px;\"></div>\n",
       "            <script type=\"text/javascript\">\n",
       "                require([\"plotly\"], function(Plotly) {\n",
       "                    window.PLOTLYENV=window.PLOTLYENV || {};\n",
       "                    \n",
       "                if (document.getElementById(\"94e506b7-d7f1-4533-ada8-3f39728fbfc5\")) {\n",
       "                    Plotly.newPlot(\n",
       "                        '94e506b7-d7f1-4533-ada8-3f39728fbfc5',\n",
       "                        [{\"marker\": {\"color\": \"rgb(49,130,189)\"}, \"name\": \"Number of 1-grams\", \"orientation\": \"h\", \"type\": \"bar\", \"x\": [27570, 19010, 10139, 8127, 7834, 7790, 7030, 6910, 6258, 5336, 5304, 5124, 5106, 4558, 4530], \"xaxis\": \"x\", \"y\": [\"\\u0445\\u043e\\u0447\\u0443\", \"\\u0442\\u0435\\u043b\\u0435\\u0444\\u043e\\u043d\", \"\\u043e\\u0447\\u0435\\u043d\\u044c\", \"\\u043a\\u0440\\u0443\\u0442\\u043e\", \"\\u0441\\u0430\\u043c\\u0441\\u0443\\u043d\\u0433\", \"\\u043a\\u0440\\u0443\\u0442\\u043e\\u0439\", \"\\u043f\\u0440\\u043e\\u0441\\u0442\\u043e\", \"fold\", \"\\u0441\\u043c\\u0430\\u0440\\u0442\\u0444\\u043e\\u043d\", \"\\u0442\\u043e\\u043f\", \"\\u0438\\u043d\\u0442\\u0435\\u0440\\u0435\\u0441\\u043d\\u043e\", \"\\u0431\\u0443\\u0434\\u0443\\u0449\\u0435\\u0435\", \"\\u0443\\u0447\\u0430\\u0441\\u0442\\u0432\\u0443\\u044e\", \"\\u0432\\u044b\\u0438\\u0433\\u0440\\u0430\\u0442\\u044c\", \"samsung\"], \"yaxis\": \"y\"}, {\"marker\": {\"color\": \"rgb(204,204,204)\"}, \"name\": \"Number of 2-grams\", \"orientation\": \"h\", \"type\": \"bar\", \"x\": [3390, 2892, 2196, 1734, 1733, 1680, 1643, 1601, 1573, 1568, 1403, 1384, 1183, 1134, 1093], \"xaxis\": \"x2\", \"y\": [\"galaxy fold\", \"\\u0445\\u043e\\u0447\\u0443 \\u0445\\u043e\\u0447\\u0443\", \"\\u0447\\u0442\\u043e \\u0442\\u043e\", \"\\u043a\\u0440\\u0443\\u0442\\u043e\\u0439 \\u0442\\u0435\\u043b\\u0435\\u0444\\u043e\\u043d\", \"\\u0441\\u043f\\u0430\\u0441\\u0438\\u0431\\u043e \\u0437\\u0430\", \"\\u0432\\u043e\\u0442 \\u044d\\u0442\\u043e\", \"\\u044d\\u0442\\u043e\\u0442 \\u0442\\u0435\\u043b\\u0435\\u0444\\u043e\\u043d\", \"\\u0445\\u043e\\u0447\\u0443 \\u0435\\u0433\\u043e\", \"\\u0432\\u0441\\u0435\\u043c \\u0443\\u0434\\u0430\\u0447\\u0438\", \"\\u0445\\u043e\\u0447\\u0443 \\u0432\\u044b\\u0438\\u0433\\u0440\\u0430\\u0442\\u044c\", \"\\u0445\\u043e\\u0447\\u0443 \\u0442\\u0430\\u043a\\u043e\\u0439\", \"\\u0445\\u043e\\u0442\\u0435\\u043b\\u043e\\u0441\\u044c \\u0431\\u044b\", \"\\u043e\\u0447\\u0435\\u043d\\u044c \\u043a\\u0440\\u0443\\u0442\\u043e\\u0439\", \"\\u043a\\u0430\\u043a \\u0432\\u0441\\u0435\\u0433\\u0434\\u0430\", \"\\u044d\\u0442\\u043e \\u043f\\u0440\\u043e\\u0441\\u0442\\u043e\"], \"yaxis\": \"y2\"}],\n",
       "                        {\"height\": 600, \"legend\": {\"orientation\": \"h\"}, \"margin\": {\"b\": 100, \"l\": 150, \"r\": 10, \"t\": 100}, \"template\": {\"data\": {\"bar\": [{\"error_x\": {\"color\": \"#2a3f5f\"}, \"error_y\": {\"color\": \"#2a3f5f\"}, \"marker\": {\"line\": {\"color\": \"#E5ECF6\", \"width\": 0.5}}, \"type\": \"bar\"}], \"barpolar\": [{\"marker\": {\"line\": {\"color\": \"#E5ECF6\", \"width\": 0.5}}, \"type\": \"barpolar\"}], \"carpet\": [{\"aaxis\": {\"endlinecolor\": \"#2a3f5f\", \"gridcolor\": \"white\", \"linecolor\": \"white\", \"minorgridcolor\": \"white\", \"startlinecolor\": \"#2a3f5f\"}, \"baxis\": {\"endlinecolor\": \"#2a3f5f\", \"gridcolor\": \"white\", \"linecolor\": \"white\", \"minorgridcolor\": \"white\", \"startlinecolor\": \"#2a3f5f\"}, \"type\": \"carpet\"}], \"choropleth\": [{\"colorbar\": {\"outlinewidth\": 0, \"ticks\": \"\"}, \"type\": \"choropleth\"}], \"contour\": [{\"colorbar\": {\"outlinewidth\": 0, \"ticks\": \"\"}, \"colorscale\": [[0.0, \"#0d0887\"], [0.1111111111111111, \"#46039f\"], [0.2222222222222222, \"#7201a8\"], [0.3333333333333333, \"#9c179e\"], [0.4444444444444444, \"#bd3786\"], [0.5555555555555556, \"#d8576b\"], [0.6666666666666666, \"#ed7953\"], [0.7777777777777778, \"#fb9f3a\"], [0.8888888888888888, \"#fdca26\"], [1.0, \"#f0f921\"]], \"type\": \"contour\"}], \"contourcarpet\": [{\"colorbar\": {\"outlinewidth\": 0, \"ticks\": \"\"}, \"type\": \"contourcarpet\"}], \"heatmap\": [{\"colorbar\": {\"outlinewidth\": 0, \"ticks\": \"\"}, \"colorscale\": [[0.0, \"#0d0887\"], [0.1111111111111111, \"#46039f\"], [0.2222222222222222, \"#7201a8\"], [0.3333333333333333, \"#9c179e\"], [0.4444444444444444, \"#bd3786\"], [0.5555555555555556, \"#d8576b\"], [0.6666666666666666, \"#ed7953\"], [0.7777777777777778, \"#fb9f3a\"], [0.8888888888888888, \"#fdca26\"], [1.0, \"#f0f921\"]], \"type\": \"heatmap\"}], \"heatmapgl\": [{\"colorbar\": {\"outlinewidth\": 0, \"ticks\": \"\"}, \"colorscale\": [[0.0, \"#0d0887\"], [0.1111111111111111, \"#46039f\"], [0.2222222222222222, \"#7201a8\"], [0.3333333333333333, \"#9c179e\"], [0.4444444444444444, \"#bd3786\"], [0.5555555555555556, \"#d8576b\"], [0.6666666666666666, \"#ed7953\"], [0.7777777777777778, \"#fb9f3a\"], [0.8888888888888888, \"#fdca26\"], [1.0, \"#f0f921\"]], \"type\": \"heatmapgl\"}], \"histogram\": [{\"marker\": {\"colorbar\": {\"outlinewidth\": 0, \"ticks\": \"\"}}, \"type\": \"histogram\"}], \"histogram2d\": [{\"colorbar\": {\"outlinewidth\": 0, \"ticks\": \"\"}, \"colorscale\": [[0.0, \"#0d0887\"], [0.1111111111111111, \"#46039f\"], [0.2222222222222222, \"#7201a8\"], [0.3333333333333333, \"#9c179e\"], [0.4444444444444444, \"#bd3786\"], [0.5555555555555556, \"#d8576b\"], [0.6666666666666666, \"#ed7953\"], [0.7777777777777778, \"#fb9f3a\"], [0.8888888888888888, \"#fdca26\"], [1.0, \"#f0f921\"]], \"type\": \"histogram2d\"}], \"histogram2dcontour\": [{\"colorbar\": {\"outlinewidth\": 0, \"ticks\": \"\"}, \"colorscale\": [[0.0, \"#0d0887\"], [0.1111111111111111, \"#46039f\"], [0.2222222222222222, \"#7201a8\"], [0.3333333333333333, \"#9c179e\"], [0.4444444444444444, \"#bd3786\"], [0.5555555555555556, \"#d8576b\"], [0.6666666666666666, \"#ed7953\"], [0.7777777777777778, \"#fb9f3a\"], [0.8888888888888888, \"#fdca26\"], [1.0, \"#f0f921\"]], \"type\": \"histogram2dcontour\"}], \"mesh3d\": [{\"colorbar\": {\"outlinewidth\": 0, \"ticks\": \"\"}, \"type\": \"mesh3d\"}], \"parcoords\": [{\"line\": {\"colorbar\": {\"outlinewidth\": 0, \"ticks\": \"\"}}, \"type\": \"parcoords\"}], \"pie\": [{\"automargin\": true, \"type\": \"pie\"}], \"scatter\": [{\"marker\": {\"colorbar\": {\"outlinewidth\": 0, \"ticks\": \"\"}}, \"type\": \"scatter\"}], \"scatter3d\": [{\"line\": {\"colorbar\": {\"outlinewidth\": 0, \"ticks\": \"\"}}, \"marker\": {\"colorbar\": {\"outlinewidth\": 0, \"ticks\": \"\"}}, \"type\": \"scatter3d\"}], \"scattercarpet\": [{\"marker\": {\"colorbar\": {\"outlinewidth\": 0, \"ticks\": \"\"}}, \"type\": \"scattercarpet\"}], \"scattergeo\": [{\"marker\": {\"colorbar\": {\"outlinewidth\": 0, \"ticks\": \"\"}}, \"type\": \"scattergeo\"}], \"scattergl\": [{\"marker\": {\"colorbar\": {\"outlinewidth\": 0, \"ticks\": \"\"}}, \"type\": \"scattergl\"}], \"scattermapbox\": [{\"marker\": {\"colorbar\": {\"outlinewidth\": 0, \"ticks\": \"\"}}, \"type\": \"scattermapbox\"}], \"scatterpolar\": [{\"marker\": {\"colorbar\": {\"outlinewidth\": 0, \"ticks\": \"\"}}, \"type\": \"scatterpolar\"}], \"scatterpolargl\": [{\"marker\": {\"colorbar\": {\"outlinewidth\": 0, \"ticks\": \"\"}}, \"type\": \"scatterpolargl\"}], \"scatterternary\": [{\"marker\": {\"colorbar\": {\"outlinewidth\": 0, \"ticks\": \"\"}}, \"type\": \"scatterternary\"}], \"surface\": [{\"colorbar\": {\"outlinewidth\": 0, \"ticks\": \"\"}, \"colorscale\": [[0.0, \"#0d0887\"], [0.1111111111111111, \"#46039f\"], [0.2222222222222222, \"#7201a8\"], [0.3333333333333333, \"#9c179e\"], [0.4444444444444444, \"#bd3786\"], [0.5555555555555556, \"#d8576b\"], [0.6666666666666666, \"#ed7953\"], [0.7777777777777778, \"#fb9f3a\"], [0.8888888888888888, \"#fdca26\"], [1.0, \"#f0f921\"]], \"type\": \"surface\"}], \"table\": [{\"cells\": {\"fill\": {\"color\": \"#EBF0F8\"}, \"line\": {\"color\": \"white\"}}, \"header\": {\"fill\": {\"color\": \"#C8D4E3\"}, \"line\": {\"color\": \"white\"}}, \"type\": \"table\"}]}, \"layout\": {\"annotationdefaults\": {\"arrowcolor\": \"#2a3f5f\", \"arrowhead\": 0, \"arrowwidth\": 1}, \"coloraxis\": {\"colorbar\": {\"outlinewidth\": 0, \"ticks\": \"\"}}, \"colorscale\": {\"diverging\": [[0, \"#8e0152\"], [0.1, \"#c51b7d\"], [0.2, \"#de77ae\"], [0.3, \"#f1b6da\"], [0.4, \"#fde0ef\"], [0.5, \"#f7f7f7\"], [0.6, \"#e6f5d0\"], [0.7, \"#b8e186\"], [0.8, \"#7fbc41\"], [0.9, \"#4d9221\"], [1, \"#276419\"]], \"sequential\": [[0.0, \"#0d0887\"], [0.1111111111111111, \"#46039f\"], [0.2222222222222222, \"#7201a8\"], [0.3333333333333333, \"#9c179e\"], [0.4444444444444444, \"#bd3786\"], [0.5555555555555556, \"#d8576b\"], [0.6666666666666666, \"#ed7953\"], [0.7777777777777778, \"#fb9f3a\"], [0.8888888888888888, \"#fdca26\"], [1.0, \"#f0f921\"]], \"sequentialminus\": [[0.0, \"#0d0887\"], [0.1111111111111111, \"#46039f\"], [0.2222222222222222, \"#7201a8\"], [0.3333333333333333, \"#9c179e\"], [0.4444444444444444, \"#bd3786\"], [0.5555555555555556, \"#d8576b\"], [0.6666666666666666, \"#ed7953\"], [0.7777777777777778, \"#fb9f3a\"], [0.8888888888888888, \"#fdca26\"], [1.0, \"#f0f921\"]]}, \"colorway\": [\"#636efa\", \"#EF553B\", \"#00cc96\", \"#ab63fa\", \"#FFA15A\", \"#19d3f3\", \"#FF6692\", \"#B6E880\", \"#FF97FF\", \"#FECB52\"], \"font\": {\"color\": \"#2a3f5f\"}, \"geo\": {\"bgcolor\": \"white\", \"lakecolor\": \"white\", \"landcolor\": \"#E5ECF6\", \"showlakes\": true, \"showland\": true, \"subunitcolor\": \"white\"}, \"hoverlabel\": {\"align\": \"left\"}, \"hovermode\": \"closest\", \"mapbox\": {\"style\": \"light\"}, \"paper_bgcolor\": \"white\", \"plot_bgcolor\": \"#E5ECF6\", \"polar\": {\"angularaxis\": {\"gridcolor\": \"white\", \"linecolor\": \"white\", \"ticks\": \"\"}, \"bgcolor\": \"#E5ECF6\", \"radialaxis\": {\"gridcolor\": \"white\", \"linecolor\": \"white\", \"ticks\": \"\"}}, \"scene\": {\"xaxis\": {\"backgroundcolor\": \"#E5ECF6\", \"gridcolor\": \"white\", \"gridwidth\": 2, \"linecolor\": \"white\", \"showbackground\": true, \"ticks\": \"\", \"zerolinecolor\": \"white\"}, \"yaxis\": {\"backgroundcolor\": \"#E5ECF6\", \"gridcolor\": \"white\", \"gridwidth\": 2, \"linecolor\": \"white\", \"showbackground\": true, \"ticks\": \"\", \"zerolinecolor\": \"white\"}, \"zaxis\": {\"backgroundcolor\": \"#E5ECF6\", \"gridcolor\": \"white\", \"gridwidth\": 2, \"linecolor\": \"white\", \"showbackground\": true, \"ticks\": \"\", \"zerolinecolor\": \"white\"}}, \"shapedefaults\": {\"line\": {\"color\": \"#2a3f5f\"}}, \"ternary\": {\"aaxis\": {\"gridcolor\": \"white\", \"linecolor\": \"white\", \"ticks\": \"\"}, \"baxis\": {\"gridcolor\": \"white\", \"linecolor\": \"white\", \"ticks\": \"\"}, \"bgcolor\": \"#E5ECF6\", \"caxis\": {\"gridcolor\": \"white\", \"linecolor\": \"white\", \"ticks\": \"\"}}, \"title\": {\"x\": 0.05}, \"xaxis\": {\"automargin\": true, \"gridcolor\": \"white\", \"linecolor\": \"white\", \"ticks\": \"\", \"title\": {\"standoff\": 15}, \"zerolinecolor\": \"white\", \"zerolinewidth\": 2}, \"yaxis\": {\"automargin\": true, \"gridcolor\": \"white\", \"linecolor\": \"white\", \"ticks\": \"\", \"title\": {\"standoff\": 15}, \"zerolinecolor\": \"white\", \"zerolinewidth\": 2}}}, \"title\": {\"text\": \"1-grams and 2-grams in comments\"}, \"width\": 800, \"xaxis\": {\"anchor\": \"y\", \"domain\": [0, 0.4]}, \"xaxis2\": {\"anchor\": \"y2\", \"domain\": [0.6, 1]}, \"yaxis\": {\"anchor\": \"x\", \"domain\": [0.0, 1.0]}, \"yaxis2\": {\"anchor\": \"x2\", \"domain\": [0.0, 1.0]}},\n",
       "                        {\"responsive\": true}\n",
       "                    ).then(function(){\n",
       "                            \n",
       "var gd = document.getElementById('94e506b7-d7f1-4533-ada8-3f39728fbfc5');\n",
       "var x = new MutationObserver(function (mutations, observer) {{\n",
       "        var display = window.getComputedStyle(gd).display;\n",
       "        if (!display || display === 'none') {{\n",
       "            console.log([gd, 'removed!']);\n",
       "            Plotly.purge(gd);\n",
       "            observer.disconnect();\n",
       "        }}\n",
       "}});\n",
       "\n",
       "// Listen for the removal of the full notebook cells\n",
       "var notebookContainer = gd.closest('#notebook-container');\n",
       "if (notebookContainer) {{\n",
       "    x.observe(notebookContainer, {childList: true});\n",
       "}}\n",
       "\n",
       "// Listen for the clearing of the current output cell\n",
       "var outputEl = gd.closest('.output');\n",
       "if (outputEl) {{\n",
       "    x.observe(outputEl, {childList: true});\n",
       "}}\n",
       "\n",
       "                        })\n",
       "                };\n",
       "                });\n",
       "            </script>\n",
       "        </div>"
      ]
     },
     "metadata": {},
     "output_type": "display_data"
    },
    {
     "data": {
      "application/vnd.plotly.v1+json": {
       "config": {
        "plotlyServerURL": "https://plot.ly"
       },
       "data": [
        {
         "marker": {
          "color": "rgb(49,130,189)"
         },
         "name": "Number of 3-grams",
         "orientation": "h",
         "type": "bar",
         "x": [
          1421,
          785,
          749,
          507,
          507,
          452,
          298,
          286,
          273,
          231,
          228,
          225,
          222,
          212,
          207
         ],
         "xaxis": "x",
         "y": [
          "хочу хочу хочу",
          "спасибо за обзор",
          "хочу galaxy fold",
          "хочу этот телефон",
          "что то новое",
          "хочу себе такой",
          "то чувство когда",
          "samsung galaxy fold",
          "очень крутой телефон",
          "хорошо забытое старое",
          "какой же он",
          "на самом деле",
          "попытка не пытка",
          "если выиграю то",
          "будущее уже здесь"
         ],
         "yaxis": "y"
        },
        {
         "marker": {
          "color": "rgb(204,204,204)"
         },
         "name": "Number of 4-grams",
         "orientation": "h",
         "type": "bar",
         "x": [
          443,
          172,
          143,
          143,
          143,
          136,
          108,
          107,
          104,
          84,
          79,
          77,
          77,
          75,
          74
         ],
         "xaxis": "x2",
         "y": [
          "хочу хочу хочу хочу",
          "наконец то что то",
          "galaxy fold крутяк galaxy",
          "fold крутяк galaxy fold",
          "крутяк galaxy fold крутяк",
          "как всегда на высоте",
          "это хорошо забытое старое",
          "новое хорошо забытое старое",
          "новое это хорошо забытое",
          "не стоят на месте",
          "то что то новое",
          "хотел бы себе такой",
          "продолжай том же духе",
          "до чего техника дошла",
          "технологии не стоят на"
         ],
         "yaxis": "y2"
        }
       ],
       "layout": {
        "height": 600,
        "legend": {
         "orientation": "h"
        },
        "margin": {
         "b": 100,
         "l": 150,
         "r": 10,
         "t": 100
        },
        "template": {
         "data": {
          "bar": [
           {
            "error_x": {
             "color": "#2a3f5f"
            },
            "error_y": {
             "color": "#2a3f5f"
            },
            "marker": {
             "line": {
              "color": "#E5ECF6",
              "width": 0.5
             }
            },
            "type": "bar"
           }
          ],
          "barpolar": [
           {
            "marker": {
             "line": {
              "color": "#E5ECF6",
              "width": 0.5
             }
            },
            "type": "barpolar"
           }
          ],
          "carpet": [
           {
            "aaxis": {
             "endlinecolor": "#2a3f5f",
             "gridcolor": "white",
             "linecolor": "white",
             "minorgridcolor": "white",
             "startlinecolor": "#2a3f5f"
            },
            "baxis": {
             "endlinecolor": "#2a3f5f",
             "gridcolor": "white",
             "linecolor": "white",
             "minorgridcolor": "white",
             "startlinecolor": "#2a3f5f"
            },
            "type": "carpet"
           }
          ],
          "choropleth": [
           {
            "colorbar": {
             "outlinewidth": 0,
             "ticks": ""
            },
            "type": "choropleth"
           }
          ],
          "contour": [
           {
            "colorbar": {
             "outlinewidth": 0,
             "ticks": ""
            },
            "colorscale": [
             [
              0,
              "#0d0887"
             ],
             [
              0.1111111111111111,
              "#46039f"
             ],
             [
              0.2222222222222222,
              "#7201a8"
             ],
             [
              0.3333333333333333,
              "#9c179e"
             ],
             [
              0.4444444444444444,
              "#bd3786"
             ],
             [
              0.5555555555555556,
              "#d8576b"
             ],
             [
              0.6666666666666666,
              "#ed7953"
             ],
             [
              0.7777777777777778,
              "#fb9f3a"
             ],
             [
              0.8888888888888888,
              "#fdca26"
             ],
             [
              1,
              "#f0f921"
             ]
            ],
            "type": "contour"
           }
          ],
          "contourcarpet": [
           {
            "colorbar": {
             "outlinewidth": 0,
             "ticks": ""
            },
            "type": "contourcarpet"
           }
          ],
          "heatmap": [
           {
            "colorbar": {
             "outlinewidth": 0,
             "ticks": ""
            },
            "colorscale": [
             [
              0,
              "#0d0887"
             ],
             [
              0.1111111111111111,
              "#46039f"
             ],
             [
              0.2222222222222222,
              "#7201a8"
             ],
             [
              0.3333333333333333,
              "#9c179e"
             ],
             [
              0.4444444444444444,
              "#bd3786"
             ],
             [
              0.5555555555555556,
              "#d8576b"
             ],
             [
              0.6666666666666666,
              "#ed7953"
             ],
             [
              0.7777777777777778,
              "#fb9f3a"
             ],
             [
              0.8888888888888888,
              "#fdca26"
             ],
             [
              1,
              "#f0f921"
             ]
            ],
            "type": "heatmap"
           }
          ],
          "heatmapgl": [
           {
            "colorbar": {
             "outlinewidth": 0,
             "ticks": ""
            },
            "colorscale": [
             [
              0,
              "#0d0887"
             ],
             [
              0.1111111111111111,
              "#46039f"
             ],
             [
              0.2222222222222222,
              "#7201a8"
             ],
             [
              0.3333333333333333,
              "#9c179e"
             ],
             [
              0.4444444444444444,
              "#bd3786"
             ],
             [
              0.5555555555555556,
              "#d8576b"
             ],
             [
              0.6666666666666666,
              "#ed7953"
             ],
             [
              0.7777777777777778,
              "#fb9f3a"
             ],
             [
              0.8888888888888888,
              "#fdca26"
             ],
             [
              1,
              "#f0f921"
             ]
            ],
            "type": "heatmapgl"
           }
          ],
          "histogram": [
           {
            "marker": {
             "colorbar": {
              "outlinewidth": 0,
              "ticks": ""
             }
            },
            "type": "histogram"
           }
          ],
          "histogram2d": [
           {
            "colorbar": {
             "outlinewidth": 0,
             "ticks": ""
            },
            "colorscale": [
             [
              0,
              "#0d0887"
             ],
             [
              0.1111111111111111,
              "#46039f"
             ],
             [
              0.2222222222222222,
              "#7201a8"
             ],
             [
              0.3333333333333333,
              "#9c179e"
             ],
             [
              0.4444444444444444,
              "#bd3786"
             ],
             [
              0.5555555555555556,
              "#d8576b"
             ],
             [
              0.6666666666666666,
              "#ed7953"
             ],
             [
              0.7777777777777778,
              "#fb9f3a"
             ],
             [
              0.8888888888888888,
              "#fdca26"
             ],
             [
              1,
              "#f0f921"
             ]
            ],
            "type": "histogram2d"
           }
          ],
          "histogram2dcontour": [
           {
            "colorbar": {
             "outlinewidth": 0,
             "ticks": ""
            },
            "colorscale": [
             [
              0,
              "#0d0887"
             ],
             [
              0.1111111111111111,
              "#46039f"
             ],
             [
              0.2222222222222222,
              "#7201a8"
             ],
             [
              0.3333333333333333,
              "#9c179e"
             ],
             [
              0.4444444444444444,
              "#bd3786"
             ],
             [
              0.5555555555555556,
              "#d8576b"
             ],
             [
              0.6666666666666666,
              "#ed7953"
             ],
             [
              0.7777777777777778,
              "#fb9f3a"
             ],
             [
              0.8888888888888888,
              "#fdca26"
             ],
             [
              1,
              "#f0f921"
             ]
            ],
            "type": "histogram2dcontour"
           }
          ],
          "mesh3d": [
           {
            "colorbar": {
             "outlinewidth": 0,
             "ticks": ""
            },
            "type": "mesh3d"
           }
          ],
          "parcoords": [
           {
            "line": {
             "colorbar": {
              "outlinewidth": 0,
              "ticks": ""
             }
            },
            "type": "parcoords"
           }
          ],
          "pie": [
           {
            "automargin": true,
            "type": "pie"
           }
          ],
          "scatter": [
           {
            "marker": {
             "colorbar": {
              "outlinewidth": 0,
              "ticks": ""
             }
            },
            "type": "scatter"
           }
          ],
          "scatter3d": [
           {
            "line": {
             "colorbar": {
              "outlinewidth": 0,
              "ticks": ""
             }
            },
            "marker": {
             "colorbar": {
              "outlinewidth": 0,
              "ticks": ""
             }
            },
            "type": "scatter3d"
           }
          ],
          "scattercarpet": [
           {
            "marker": {
             "colorbar": {
              "outlinewidth": 0,
              "ticks": ""
             }
            },
            "type": "scattercarpet"
           }
          ],
          "scattergeo": [
           {
            "marker": {
             "colorbar": {
              "outlinewidth": 0,
              "ticks": ""
             }
            },
            "type": "scattergeo"
           }
          ],
          "scattergl": [
           {
            "marker": {
             "colorbar": {
              "outlinewidth": 0,
              "ticks": ""
             }
            },
            "type": "scattergl"
           }
          ],
          "scattermapbox": [
           {
            "marker": {
             "colorbar": {
              "outlinewidth": 0,
              "ticks": ""
             }
            },
            "type": "scattermapbox"
           }
          ],
          "scatterpolar": [
           {
            "marker": {
             "colorbar": {
              "outlinewidth": 0,
              "ticks": ""
             }
            },
            "type": "scatterpolar"
           }
          ],
          "scatterpolargl": [
           {
            "marker": {
             "colorbar": {
              "outlinewidth": 0,
              "ticks": ""
             }
            },
            "type": "scatterpolargl"
           }
          ],
          "scatterternary": [
           {
            "marker": {
             "colorbar": {
              "outlinewidth": 0,
              "ticks": ""
             }
            },
            "type": "scatterternary"
           }
          ],
          "surface": [
           {
            "colorbar": {
             "outlinewidth": 0,
             "ticks": ""
            },
            "colorscale": [
             [
              0,
              "#0d0887"
             ],
             [
              0.1111111111111111,
              "#46039f"
             ],
             [
              0.2222222222222222,
              "#7201a8"
             ],
             [
              0.3333333333333333,
              "#9c179e"
             ],
             [
              0.4444444444444444,
              "#bd3786"
             ],
             [
              0.5555555555555556,
              "#d8576b"
             ],
             [
              0.6666666666666666,
              "#ed7953"
             ],
             [
              0.7777777777777778,
              "#fb9f3a"
             ],
             [
              0.8888888888888888,
              "#fdca26"
             ],
             [
              1,
              "#f0f921"
             ]
            ],
            "type": "surface"
           }
          ],
          "table": [
           {
            "cells": {
             "fill": {
              "color": "#EBF0F8"
             },
             "line": {
              "color": "white"
             }
            },
            "header": {
             "fill": {
              "color": "#C8D4E3"
             },
             "line": {
              "color": "white"
             }
            },
            "type": "table"
           }
          ]
         },
         "layout": {
          "annotationdefaults": {
           "arrowcolor": "#2a3f5f",
           "arrowhead": 0,
           "arrowwidth": 1
          },
          "coloraxis": {
           "colorbar": {
            "outlinewidth": 0,
            "ticks": ""
           }
          },
          "colorscale": {
           "diverging": [
            [
             0,
             "#8e0152"
            ],
            [
             0.1,
             "#c51b7d"
            ],
            [
             0.2,
             "#de77ae"
            ],
            [
             0.3,
             "#f1b6da"
            ],
            [
             0.4,
             "#fde0ef"
            ],
            [
             0.5,
             "#f7f7f7"
            ],
            [
             0.6,
             "#e6f5d0"
            ],
            [
             0.7,
             "#b8e186"
            ],
            [
             0.8,
             "#7fbc41"
            ],
            [
             0.9,
             "#4d9221"
            ],
            [
             1,
             "#276419"
            ]
           ],
           "sequential": [
            [
             0,
             "#0d0887"
            ],
            [
             0.1111111111111111,
             "#46039f"
            ],
            [
             0.2222222222222222,
             "#7201a8"
            ],
            [
             0.3333333333333333,
             "#9c179e"
            ],
            [
             0.4444444444444444,
             "#bd3786"
            ],
            [
             0.5555555555555556,
             "#d8576b"
            ],
            [
             0.6666666666666666,
             "#ed7953"
            ],
            [
             0.7777777777777778,
             "#fb9f3a"
            ],
            [
             0.8888888888888888,
             "#fdca26"
            ],
            [
             1,
             "#f0f921"
            ]
           ],
           "sequentialminus": [
            [
             0,
             "#0d0887"
            ],
            [
             0.1111111111111111,
             "#46039f"
            ],
            [
             0.2222222222222222,
             "#7201a8"
            ],
            [
             0.3333333333333333,
             "#9c179e"
            ],
            [
             0.4444444444444444,
             "#bd3786"
            ],
            [
             0.5555555555555556,
             "#d8576b"
            ],
            [
             0.6666666666666666,
             "#ed7953"
            ],
            [
             0.7777777777777778,
             "#fb9f3a"
            ],
            [
             0.8888888888888888,
             "#fdca26"
            ],
            [
             1,
             "#f0f921"
            ]
           ]
          },
          "colorway": [
           "#636efa",
           "#EF553B",
           "#00cc96",
           "#ab63fa",
           "#FFA15A",
           "#19d3f3",
           "#FF6692",
           "#B6E880",
           "#FF97FF",
           "#FECB52"
          ],
          "font": {
           "color": "#2a3f5f"
          },
          "geo": {
           "bgcolor": "white",
           "lakecolor": "white",
           "landcolor": "#E5ECF6",
           "showlakes": true,
           "showland": true,
           "subunitcolor": "white"
          },
          "hoverlabel": {
           "align": "left"
          },
          "hovermode": "closest",
          "mapbox": {
           "style": "light"
          },
          "paper_bgcolor": "white",
          "plot_bgcolor": "#E5ECF6",
          "polar": {
           "angularaxis": {
            "gridcolor": "white",
            "linecolor": "white",
            "ticks": ""
           },
           "bgcolor": "#E5ECF6",
           "radialaxis": {
            "gridcolor": "white",
            "linecolor": "white",
            "ticks": ""
           }
          },
          "scene": {
           "xaxis": {
            "backgroundcolor": "#E5ECF6",
            "gridcolor": "white",
            "gridwidth": 2,
            "linecolor": "white",
            "showbackground": true,
            "ticks": "",
            "zerolinecolor": "white"
           },
           "yaxis": {
            "backgroundcolor": "#E5ECF6",
            "gridcolor": "white",
            "gridwidth": 2,
            "linecolor": "white",
            "showbackground": true,
            "ticks": "",
            "zerolinecolor": "white"
           },
           "zaxis": {
            "backgroundcolor": "#E5ECF6",
            "gridcolor": "white",
            "gridwidth": 2,
            "linecolor": "white",
            "showbackground": true,
            "ticks": "",
            "zerolinecolor": "white"
           }
          },
          "shapedefaults": {
           "line": {
            "color": "#2a3f5f"
           }
          },
          "ternary": {
           "aaxis": {
            "gridcolor": "white",
            "linecolor": "white",
            "ticks": ""
           },
           "baxis": {
            "gridcolor": "white",
            "linecolor": "white",
            "ticks": ""
           },
           "bgcolor": "#E5ECF6",
           "caxis": {
            "gridcolor": "white",
            "linecolor": "white",
            "ticks": ""
           }
          },
          "title": {
           "x": 0.05
          },
          "xaxis": {
           "automargin": true,
           "gridcolor": "white",
           "linecolor": "white",
           "ticks": "",
           "title": {
            "standoff": 15
           },
           "zerolinecolor": "white",
           "zerolinewidth": 2
          },
          "yaxis": {
           "automargin": true,
           "gridcolor": "white",
           "linecolor": "white",
           "ticks": "",
           "title": {
            "standoff": 15
           },
           "zerolinecolor": "white",
           "zerolinewidth": 2
          }
         }
        },
        "title": {
         "text": "3-grams and 4-grams in comments"
        },
        "width": 800,
        "xaxis": {
         "anchor": "y",
         "domain": [
          0,
          0.4
         ]
        },
        "xaxis2": {
         "anchor": "y2",
         "domain": [
          0.6,
          1
         ]
        },
        "yaxis": {
         "anchor": "x",
         "domain": [
          0,
          1
         ]
        },
        "yaxis2": {
         "anchor": "x2",
         "domain": [
          0,
          1
         ]
        }
       }
      },
      "text/html": [
       "<div>\n",
       "        \n",
       "        \n",
       "            <div id=\"a64d77b1-5bb8-4d0d-8d40-8f4fa40ff913\" class=\"plotly-graph-div\" style=\"height:600px; width:800px;\"></div>\n",
       "            <script type=\"text/javascript\">\n",
       "                require([\"plotly\"], function(Plotly) {\n",
       "                    window.PLOTLYENV=window.PLOTLYENV || {};\n",
       "                    \n",
       "                if (document.getElementById(\"a64d77b1-5bb8-4d0d-8d40-8f4fa40ff913\")) {\n",
       "                    Plotly.newPlot(\n",
       "                        'a64d77b1-5bb8-4d0d-8d40-8f4fa40ff913',\n",
       "                        [{\"marker\": {\"color\": \"rgb(49,130,189)\"}, \"name\": \"Number of 3-grams\", \"orientation\": \"h\", \"type\": \"bar\", \"x\": [1421, 785, 749, 507, 507, 452, 298, 286, 273, 231, 228, 225, 222, 212, 207], \"xaxis\": \"x\", \"y\": [\"\\u0445\\u043e\\u0447\\u0443 \\u0445\\u043e\\u0447\\u0443 \\u0445\\u043e\\u0447\\u0443\", \"\\u0441\\u043f\\u0430\\u0441\\u0438\\u0431\\u043e \\u0437\\u0430 \\u043e\\u0431\\u0437\\u043e\\u0440\", \"\\u0445\\u043e\\u0447\\u0443 galaxy fold\", \"\\u0445\\u043e\\u0447\\u0443 \\u044d\\u0442\\u043e\\u0442 \\u0442\\u0435\\u043b\\u0435\\u0444\\u043e\\u043d\", \"\\u0447\\u0442\\u043e \\u0442\\u043e \\u043d\\u043e\\u0432\\u043e\\u0435\", \"\\u0445\\u043e\\u0447\\u0443 \\u0441\\u0435\\u0431\\u0435 \\u0442\\u0430\\u043a\\u043e\\u0439\", \"\\u0442\\u043e \\u0447\\u0443\\u0432\\u0441\\u0442\\u0432\\u043e \\u043a\\u043e\\u0433\\u0434\\u0430\", \"samsung galaxy fold\", \"\\u043e\\u0447\\u0435\\u043d\\u044c \\u043a\\u0440\\u0443\\u0442\\u043e\\u0439 \\u0442\\u0435\\u043b\\u0435\\u0444\\u043e\\u043d\", \"\\u0445\\u043e\\u0440\\u043e\\u0448\\u043e \\u0437\\u0430\\u0431\\u044b\\u0442\\u043e\\u0435 \\u0441\\u0442\\u0430\\u0440\\u043e\\u0435\", \"\\u043a\\u0430\\u043a\\u043e\\u0439 \\u0436\\u0435 \\u043e\\u043d\", \"\\u043d\\u0430 \\u0441\\u0430\\u043c\\u043e\\u043c \\u0434\\u0435\\u043b\\u0435\", \"\\u043f\\u043e\\u043f\\u044b\\u0442\\u043a\\u0430 \\u043d\\u0435 \\u043f\\u044b\\u0442\\u043a\\u0430\", \"\\u0435\\u0441\\u043b\\u0438 \\u0432\\u044b\\u0438\\u0433\\u0440\\u0430\\u044e \\u0442\\u043e\", \"\\u0431\\u0443\\u0434\\u0443\\u0449\\u0435\\u0435 \\u0443\\u0436\\u0435 \\u0437\\u0434\\u0435\\u0441\\u044c\"], \"yaxis\": \"y\"}, {\"marker\": {\"color\": \"rgb(204,204,204)\"}, \"name\": \"Number of 4-grams\", \"orientation\": \"h\", \"type\": \"bar\", \"x\": [443, 172, 143, 143, 143, 136, 108, 107, 104, 84, 79, 77, 77, 75, 74], \"xaxis\": \"x2\", \"y\": [\"\\u0445\\u043e\\u0447\\u0443 \\u0445\\u043e\\u0447\\u0443 \\u0445\\u043e\\u0447\\u0443 \\u0445\\u043e\\u0447\\u0443\", \"\\u043d\\u0430\\u043a\\u043e\\u043d\\u0435\\u0446 \\u0442\\u043e \\u0447\\u0442\\u043e \\u0442\\u043e\", \"galaxy fold \\u043a\\u0440\\u0443\\u0442\\u044f\\u043a galaxy\", \"fold \\u043a\\u0440\\u0443\\u0442\\u044f\\u043a galaxy fold\", \"\\u043a\\u0440\\u0443\\u0442\\u044f\\u043a galaxy fold \\u043a\\u0440\\u0443\\u0442\\u044f\\u043a\", \"\\u043a\\u0430\\u043a \\u0432\\u0441\\u0435\\u0433\\u0434\\u0430 \\u043d\\u0430 \\u0432\\u044b\\u0441\\u043e\\u0442\\u0435\", \"\\u044d\\u0442\\u043e \\u0445\\u043e\\u0440\\u043e\\u0448\\u043e \\u0437\\u0430\\u0431\\u044b\\u0442\\u043e\\u0435 \\u0441\\u0442\\u0430\\u0440\\u043e\\u0435\", \"\\u043d\\u043e\\u0432\\u043e\\u0435 \\u0445\\u043e\\u0440\\u043e\\u0448\\u043e \\u0437\\u0430\\u0431\\u044b\\u0442\\u043e\\u0435 \\u0441\\u0442\\u0430\\u0440\\u043e\\u0435\", \"\\u043d\\u043e\\u0432\\u043e\\u0435 \\u044d\\u0442\\u043e \\u0445\\u043e\\u0440\\u043e\\u0448\\u043e \\u0437\\u0430\\u0431\\u044b\\u0442\\u043e\\u0435\", \"\\u043d\\u0435 \\u0441\\u0442\\u043e\\u044f\\u0442 \\u043d\\u0430 \\u043c\\u0435\\u0441\\u0442\\u0435\", \"\\u0442\\u043e \\u0447\\u0442\\u043e \\u0442\\u043e \\u043d\\u043e\\u0432\\u043e\\u0435\", \"\\u0445\\u043e\\u0442\\u0435\\u043b \\u0431\\u044b \\u0441\\u0435\\u0431\\u0435 \\u0442\\u0430\\u043a\\u043e\\u0439\", \"\\u043f\\u0440\\u043e\\u0434\\u043e\\u043b\\u0436\\u0430\\u0439 \\u0442\\u043e\\u043c \\u0436\\u0435 \\u0434\\u0443\\u0445\\u0435\", \"\\u0434\\u043e \\u0447\\u0435\\u0433\\u043e \\u0442\\u0435\\u0445\\u043d\\u0438\\u043a\\u0430 \\u0434\\u043e\\u0448\\u043b\\u0430\", \"\\u0442\\u0435\\u0445\\u043d\\u043e\\u043b\\u043e\\u0433\\u0438\\u0438 \\u043d\\u0435 \\u0441\\u0442\\u043e\\u044f\\u0442 \\u043d\\u0430\"], \"yaxis\": \"y2\"}],\n",
       "                        {\"height\": 600, \"legend\": {\"orientation\": \"h\"}, \"margin\": {\"b\": 100, \"l\": 150, \"r\": 10, \"t\": 100}, \"template\": {\"data\": {\"bar\": [{\"error_x\": {\"color\": \"#2a3f5f\"}, \"error_y\": {\"color\": \"#2a3f5f\"}, \"marker\": {\"line\": {\"color\": \"#E5ECF6\", \"width\": 0.5}}, \"type\": \"bar\"}], \"barpolar\": [{\"marker\": {\"line\": {\"color\": \"#E5ECF6\", \"width\": 0.5}}, \"type\": \"barpolar\"}], \"carpet\": [{\"aaxis\": {\"endlinecolor\": \"#2a3f5f\", \"gridcolor\": \"white\", \"linecolor\": \"white\", \"minorgridcolor\": \"white\", \"startlinecolor\": \"#2a3f5f\"}, \"baxis\": {\"endlinecolor\": \"#2a3f5f\", \"gridcolor\": \"white\", \"linecolor\": \"white\", \"minorgridcolor\": \"white\", \"startlinecolor\": \"#2a3f5f\"}, \"type\": \"carpet\"}], \"choropleth\": [{\"colorbar\": {\"outlinewidth\": 0, \"ticks\": \"\"}, \"type\": \"choropleth\"}], \"contour\": [{\"colorbar\": {\"outlinewidth\": 0, \"ticks\": \"\"}, \"colorscale\": [[0.0, \"#0d0887\"], [0.1111111111111111, \"#46039f\"], [0.2222222222222222, \"#7201a8\"], [0.3333333333333333, \"#9c179e\"], [0.4444444444444444, \"#bd3786\"], [0.5555555555555556, \"#d8576b\"], [0.6666666666666666, \"#ed7953\"], [0.7777777777777778, \"#fb9f3a\"], [0.8888888888888888, \"#fdca26\"], [1.0, \"#f0f921\"]], \"type\": \"contour\"}], \"contourcarpet\": [{\"colorbar\": {\"outlinewidth\": 0, \"ticks\": \"\"}, \"type\": \"contourcarpet\"}], \"heatmap\": [{\"colorbar\": {\"outlinewidth\": 0, \"ticks\": \"\"}, \"colorscale\": [[0.0, \"#0d0887\"], [0.1111111111111111, \"#46039f\"], [0.2222222222222222, \"#7201a8\"], [0.3333333333333333, \"#9c179e\"], [0.4444444444444444, \"#bd3786\"], [0.5555555555555556, \"#d8576b\"], [0.6666666666666666, \"#ed7953\"], [0.7777777777777778, \"#fb9f3a\"], [0.8888888888888888, \"#fdca26\"], [1.0, \"#f0f921\"]], \"type\": \"heatmap\"}], \"heatmapgl\": [{\"colorbar\": {\"outlinewidth\": 0, \"ticks\": \"\"}, \"colorscale\": [[0.0, \"#0d0887\"], [0.1111111111111111, \"#46039f\"], [0.2222222222222222, \"#7201a8\"], [0.3333333333333333, \"#9c179e\"], [0.4444444444444444, \"#bd3786\"], [0.5555555555555556, \"#d8576b\"], [0.6666666666666666, \"#ed7953\"], [0.7777777777777778, \"#fb9f3a\"], [0.8888888888888888, \"#fdca26\"], [1.0, \"#f0f921\"]], \"type\": \"heatmapgl\"}], \"histogram\": [{\"marker\": {\"colorbar\": {\"outlinewidth\": 0, \"ticks\": \"\"}}, \"type\": \"histogram\"}], \"histogram2d\": [{\"colorbar\": {\"outlinewidth\": 0, \"ticks\": \"\"}, \"colorscale\": [[0.0, \"#0d0887\"], [0.1111111111111111, \"#46039f\"], [0.2222222222222222, \"#7201a8\"], [0.3333333333333333, \"#9c179e\"], [0.4444444444444444, \"#bd3786\"], [0.5555555555555556, \"#d8576b\"], [0.6666666666666666, \"#ed7953\"], [0.7777777777777778, \"#fb9f3a\"], [0.8888888888888888, \"#fdca26\"], [1.0, \"#f0f921\"]], \"type\": \"histogram2d\"}], \"histogram2dcontour\": [{\"colorbar\": {\"outlinewidth\": 0, \"ticks\": \"\"}, \"colorscale\": [[0.0, \"#0d0887\"], [0.1111111111111111, \"#46039f\"], [0.2222222222222222, \"#7201a8\"], [0.3333333333333333, \"#9c179e\"], [0.4444444444444444, \"#bd3786\"], [0.5555555555555556, \"#d8576b\"], [0.6666666666666666, \"#ed7953\"], [0.7777777777777778, \"#fb9f3a\"], [0.8888888888888888, \"#fdca26\"], [1.0, \"#f0f921\"]], \"type\": \"histogram2dcontour\"}], \"mesh3d\": [{\"colorbar\": {\"outlinewidth\": 0, \"ticks\": \"\"}, \"type\": \"mesh3d\"}], \"parcoords\": [{\"line\": {\"colorbar\": {\"outlinewidth\": 0, \"ticks\": \"\"}}, \"type\": \"parcoords\"}], \"pie\": [{\"automargin\": true, \"type\": \"pie\"}], \"scatter\": [{\"marker\": {\"colorbar\": {\"outlinewidth\": 0, \"ticks\": \"\"}}, \"type\": \"scatter\"}], \"scatter3d\": [{\"line\": {\"colorbar\": {\"outlinewidth\": 0, \"ticks\": \"\"}}, \"marker\": {\"colorbar\": {\"outlinewidth\": 0, \"ticks\": \"\"}}, \"type\": \"scatter3d\"}], \"scattercarpet\": [{\"marker\": {\"colorbar\": {\"outlinewidth\": 0, \"ticks\": \"\"}}, \"type\": \"scattercarpet\"}], \"scattergeo\": [{\"marker\": {\"colorbar\": {\"outlinewidth\": 0, \"ticks\": \"\"}}, \"type\": \"scattergeo\"}], \"scattergl\": [{\"marker\": {\"colorbar\": {\"outlinewidth\": 0, \"ticks\": \"\"}}, \"type\": \"scattergl\"}], \"scattermapbox\": [{\"marker\": {\"colorbar\": {\"outlinewidth\": 0, \"ticks\": \"\"}}, \"type\": \"scattermapbox\"}], \"scatterpolar\": [{\"marker\": {\"colorbar\": {\"outlinewidth\": 0, \"ticks\": \"\"}}, \"type\": \"scatterpolar\"}], \"scatterpolargl\": [{\"marker\": {\"colorbar\": {\"outlinewidth\": 0, \"ticks\": \"\"}}, \"type\": \"scatterpolargl\"}], \"scatterternary\": [{\"marker\": {\"colorbar\": {\"outlinewidth\": 0, \"ticks\": \"\"}}, \"type\": \"scatterternary\"}], \"surface\": [{\"colorbar\": {\"outlinewidth\": 0, \"ticks\": \"\"}, \"colorscale\": [[0.0, \"#0d0887\"], [0.1111111111111111, \"#46039f\"], [0.2222222222222222, \"#7201a8\"], [0.3333333333333333, \"#9c179e\"], [0.4444444444444444, \"#bd3786\"], [0.5555555555555556, \"#d8576b\"], [0.6666666666666666, \"#ed7953\"], [0.7777777777777778, \"#fb9f3a\"], [0.8888888888888888, \"#fdca26\"], [1.0, \"#f0f921\"]], \"type\": \"surface\"}], \"table\": [{\"cells\": {\"fill\": {\"color\": \"#EBF0F8\"}, \"line\": {\"color\": \"white\"}}, \"header\": {\"fill\": {\"color\": \"#C8D4E3\"}, \"line\": {\"color\": \"white\"}}, \"type\": \"table\"}]}, \"layout\": {\"annotationdefaults\": {\"arrowcolor\": \"#2a3f5f\", \"arrowhead\": 0, \"arrowwidth\": 1}, \"coloraxis\": {\"colorbar\": {\"outlinewidth\": 0, \"ticks\": \"\"}}, \"colorscale\": {\"diverging\": [[0, \"#8e0152\"], [0.1, \"#c51b7d\"], [0.2, \"#de77ae\"], [0.3, \"#f1b6da\"], [0.4, \"#fde0ef\"], [0.5, \"#f7f7f7\"], [0.6, \"#e6f5d0\"], [0.7, \"#b8e186\"], [0.8, \"#7fbc41\"], [0.9, \"#4d9221\"], [1, \"#276419\"]], \"sequential\": [[0.0, \"#0d0887\"], [0.1111111111111111, \"#46039f\"], [0.2222222222222222, \"#7201a8\"], [0.3333333333333333, \"#9c179e\"], [0.4444444444444444, \"#bd3786\"], [0.5555555555555556, \"#d8576b\"], [0.6666666666666666, \"#ed7953\"], [0.7777777777777778, \"#fb9f3a\"], [0.8888888888888888, \"#fdca26\"], [1.0, \"#f0f921\"]], \"sequentialminus\": [[0.0, \"#0d0887\"], [0.1111111111111111, \"#46039f\"], [0.2222222222222222, \"#7201a8\"], [0.3333333333333333, \"#9c179e\"], [0.4444444444444444, \"#bd3786\"], [0.5555555555555556, \"#d8576b\"], [0.6666666666666666, \"#ed7953\"], [0.7777777777777778, \"#fb9f3a\"], [0.8888888888888888, \"#fdca26\"], [1.0, \"#f0f921\"]]}, \"colorway\": [\"#636efa\", \"#EF553B\", \"#00cc96\", \"#ab63fa\", \"#FFA15A\", \"#19d3f3\", \"#FF6692\", \"#B6E880\", \"#FF97FF\", \"#FECB52\"], \"font\": {\"color\": \"#2a3f5f\"}, \"geo\": {\"bgcolor\": \"white\", \"lakecolor\": \"white\", \"landcolor\": \"#E5ECF6\", \"showlakes\": true, \"showland\": true, \"subunitcolor\": \"white\"}, \"hoverlabel\": {\"align\": \"left\"}, \"hovermode\": \"closest\", \"mapbox\": {\"style\": \"light\"}, \"paper_bgcolor\": \"white\", \"plot_bgcolor\": \"#E5ECF6\", \"polar\": {\"angularaxis\": {\"gridcolor\": \"white\", \"linecolor\": \"white\", \"ticks\": \"\"}, \"bgcolor\": \"#E5ECF6\", \"radialaxis\": {\"gridcolor\": \"white\", \"linecolor\": \"white\", \"ticks\": \"\"}}, \"scene\": {\"xaxis\": {\"backgroundcolor\": \"#E5ECF6\", \"gridcolor\": \"white\", \"gridwidth\": 2, \"linecolor\": \"white\", \"showbackground\": true, \"ticks\": \"\", \"zerolinecolor\": \"white\"}, \"yaxis\": {\"backgroundcolor\": \"#E5ECF6\", \"gridcolor\": \"white\", \"gridwidth\": 2, \"linecolor\": \"white\", \"showbackground\": true, \"ticks\": \"\", \"zerolinecolor\": \"white\"}, \"zaxis\": {\"backgroundcolor\": \"#E5ECF6\", \"gridcolor\": \"white\", \"gridwidth\": 2, \"linecolor\": \"white\", \"showbackground\": true, \"ticks\": \"\", \"zerolinecolor\": \"white\"}}, \"shapedefaults\": {\"line\": {\"color\": \"#2a3f5f\"}}, \"ternary\": {\"aaxis\": {\"gridcolor\": \"white\", \"linecolor\": \"white\", \"ticks\": \"\"}, \"baxis\": {\"gridcolor\": \"white\", \"linecolor\": \"white\", \"ticks\": \"\"}, \"bgcolor\": \"#E5ECF6\", \"caxis\": {\"gridcolor\": \"white\", \"linecolor\": \"white\", \"ticks\": \"\"}}, \"title\": {\"x\": 0.05}, \"xaxis\": {\"automargin\": true, \"gridcolor\": \"white\", \"linecolor\": \"white\", \"ticks\": \"\", \"title\": {\"standoff\": 15}, \"zerolinecolor\": \"white\", \"zerolinewidth\": 2}, \"yaxis\": {\"automargin\": true, \"gridcolor\": \"white\", \"linecolor\": \"white\", \"ticks\": \"\", \"title\": {\"standoff\": 15}, \"zerolinecolor\": \"white\", \"zerolinewidth\": 2}}}, \"title\": {\"text\": \"3-grams and 4-grams in comments\"}, \"width\": 800, \"xaxis\": {\"anchor\": \"y\", \"domain\": [0, 0.4]}, \"xaxis2\": {\"anchor\": \"y2\", \"domain\": [0.6, 1]}, \"yaxis\": {\"anchor\": \"x\", \"domain\": [0.0, 1.0]}, \"yaxis2\": {\"anchor\": \"x2\", \"domain\": [0.0, 1.0]}},\n",
       "                        {\"responsive\": true}\n",
       "                    ).then(function(){\n",
       "                            \n",
       "var gd = document.getElementById('a64d77b1-5bb8-4d0d-8d40-8f4fa40ff913');\n",
       "var x = new MutationObserver(function (mutations, observer) {{\n",
       "        var display = window.getComputedStyle(gd).display;\n",
       "        if (!display || display === 'none') {{\n",
       "            console.log([gd, 'removed!']);\n",
       "            Plotly.purge(gd);\n",
       "            observer.disconnect();\n",
       "        }}\n",
       "}});\n",
       "\n",
       "// Listen for the removal of the full notebook cells\n",
       "var notebookContainer = gd.closest('#notebook-container');\n",
       "if (notebookContainer) {{\n",
       "    x.observe(notebookContainer, {childList: true});\n",
       "}}\n",
       "\n",
       "// Listen for the clearing of the current output cell\n",
       "var outputEl = gd.closest('.output');\n",
       "if (outputEl) {{\n",
       "    x.observe(outputEl, {childList: true});\n",
       "}}\n",
       "\n",
       "                        })\n",
       "                };\n",
       "                });\n",
       "            </script>\n",
       "        </div>"
      ]
     },
     "metadata": {},
     "output_type": "display_data"
    },
    {
     "name": "stdout",
     "output_type": "stream",
     "text": [
      "CPU times: user 20.3 s, sys: 280 ms, total: 20.6 s\n",
      "Wall time: 20.6 s\n"
     ]
    }
   ],
   "source": [
    "%%time\n",
    "words1, freq1 = get_top_n_grams(df['Comments'], rng = (1, 1), n = 15)\n",
    "words2, freq2 = get_top_n_grams(df['Comments'], rng = (2, 2), n = 15)\n",
    "words3, freq3 = get_top_n_grams(df['Comments'], rng = (3, 3), n = 15)\n",
    "words4, freq4 = get_top_n_grams(df['Comments'], rng = (4, 4), n = 15)\n",
    "\n",
    "get_bars(words1, freq1, words2, freq2 )\n",
    "get_bars(words3, freq3, words4, freq4 )"
   ]
  },
  {
   "cell_type": "markdown",
   "metadata": {},
   "source": [
    "# Sentiment analize"
   ]
  },
  {
   "cell_type": "markdown",
   "metadata": {},
   "source": [
    "Loading a model learning from twitter texts from deeppavlov"
   ]
  },
  {
   "cell_type": "code",
   "execution_count": 273,
   "metadata": {},
   "outputs": [],
   "source": [
    "#from deeppavlov import build_model\n",
    "#model = build_model('rusentiment_elmo_twitter_cnn', download=True)"
   ]
  },
  {
   "cell_type": "markdown",
   "metadata": {},
   "source": [
    "Divided the process into parts and saved to a file since the process is quite expensive for my computer"
   ]
  },
  {
   "cell_type": "code",
   "execution_count": 274,
   "metadata": {},
   "outputs": [],
   "source": [
    "#%%time\n",
    "#sentiments = []\n",
    "#first = 0\n",
    "#for i in range(1, round(df.shape[0]/100)):\n",
    "#    last = i * 100\n",
    "#    print('start')\n",
    "#    sentiments = model(comments[first:last])\n",
    "#    first = last\n",
    "#    print('finish')\n",
    "#    with open('sentiments.csv', 'a+') as f:\n",
    "#        csv_writer = writer(f)\n",
    "#        csv_writer.writerow([sentiments])\n",
    "#    print(last)"
   ]
  },
  {
   "cell_type": "markdown",
   "metadata": {},
   "source": [
    "Save the result"
   ]
  },
  {
   "cell_type": "code",
   "execution_count": 275,
   "metadata": {},
   "outputs": [],
   "source": [
    "#with open('sentiments.data', 'wb') as filehandle:\n",
    "#    # store the data as binary data stream\n",
    "#    pickle.dump(sents, filehandle)"
   ]
  },
  {
   "cell_type": "markdown",
   "metadata": {},
   "source": [
    "Open the result"
   ]
  },
  {
   "cell_type": "code",
   "execution_count": 276,
   "metadata": {},
   "outputs": [],
   "source": [
    "with open('sentiments.data', 'rb') as filehandle:\n",
    "    # read the data as binary data stream\n",
    "    sents = pickle.load(filehandle)"
   ]
  },
  {
   "cell_type": "code",
   "execution_count": 277,
   "metadata": {},
   "outputs": [],
   "source": [
    "df['sentimensts'] = sents"
   ]
  },
  {
   "cell_type": "markdown",
   "metadata": {},
   "source": [
    "Save all comments authors with less than 2, 3 comments. I want to know how strongly spammers and bots influence mood to the sentiments"
   ]
  },
  {
   "cell_type": "code",
   "execution_count": 278,
   "metadata": {},
   "outputs": [],
   "source": [
    "dups_df = df.groupby(df['author'].tolist()).size().reset_index().\\\n",
    "    rename(columns={0:'records', 'index': 'author' })\n",
    "\n",
    "# Get the number of negative, speech, neutral, positive and skip values \n",
    "# for authors with less than 2, 3, 1000 comments\n",
    "df_sentiment_counts2 = get_df_sentiment_counts(dups_df, df, 2)\n",
    "df_sentiment_counts3 = get_df_sentiment_counts(dups_df, df, 3)\n",
    "df_sentiment_countsAll = get_df_sentiment_counts(dups_df, df, 10000)"
   ]
  },
  {
   "cell_type": "markdown",
   "metadata": {},
   "source": [
    "### Sentiment percentages"
   ]
  },
  {
   "cell_type": "code",
   "execution_count": 279,
   "metadata": {},
   "outputs": [
    {
     "data": {
      "image/png": "[encoded data removed]",
      "text/plain": [
       "<Figure size 2000x1250 with 1 Axes>"
      ]
     },
     "metadata": {},
     "output_type": "display_data"
    }
   ],
   "source": [
    "bars_less2 = get_percantage(df_sentiment_counts2['counts'])\n",
    "bars_less3 = get_percantage(df_sentiment_counts3['counts'])\n",
    "barsAll = get_percantage(df_sentiment_countsAll['counts'])\n",
    "\n",
    "get_3_sentiment_bars(bars_less2, bars_less3, barsAll)"
   ]
  },
  {
   "cell_type": "markdown",
   "metadata": {},
   "source": [
    "We can see that the number of comments from authors does not affect the percentage of sentiment content"
   ]
  },
  {
   "cell_type": "markdown",
   "metadata": {},
   "source": [
    "### Number of moods"
   ]
  },
  {
   "cell_type": "code",
   "execution_count": 280,
   "metadata": {},
   "outputs": [
    {
     "data": {
      "image/png": "[encoded data removed]",
      "text/plain": [
       "<Figure size 2000x1250 with 1 Axes>"
      ]
     },
     "metadata": {},
     "output_type": "display_data"
    }
   ],
   "source": [
    "bars_less2 = df_sentiment_counts2['counts'].values\n",
    "bars_less3 = df_sentiment_counts3['counts'].values\n",
    "barsAll = df_sentiment_countsAll['counts'].values\n",
    "\n",
    "get_3_sentiment_bars(bars_less2, bars_less3, barsAll)"
   ]
  },
  {
   "cell_type": "markdown",
   "metadata": {},
   "source": [
    "# Remove spammers and bots"
   ]
  },
  {
   "cell_type": "code",
   "execution_count": 281,
   "metadata": {},
   "outputs": [],
   "source": [
    "# if one author wrote the same comments, he will be added to the black list\n",
    "black_list = df[df.duplicated(['Comments','author'], keep=False )]['author'] \n",
    "black_list = black_list.drop_duplicates()\n",
    "\n",
    "# Remove comments\n",
    "mask = df['author'].isin(black_list)\n",
    "df = df[-mask]"
   ]
  },
  {
   "cell_type": "markdown",
   "metadata": {},
   "source": [
    "### Extra information:\n",
    " I tried to detect bots by determining the time interval between their comments. It was not very efficient. The best way that I found to detect bots or spammers is remove authors who have written many comments.\n",
    "\n",
    "   There is another suggestion to detect bots by analyzing all the comments of all videos on the YouTube channel. This way it will be more accurately detect spammers and bots."
   ]
  },
  {
   "cell_type": "code",
   "execution_count": 282,
   "metadata": {},
   "outputs": [
    {
     "data": {
      "text/html": [
       "<div>\n",
       "<style scoped>\n",
       "    .dataframe tbody tr th:only-of-type {\n",
       "        vertical-align: middle;\n",
       "    }\n",
       "\n",
       "    .dataframe tbody tr th {\n",
       "        vertical-align: top;\n",
       "    }\n",
       "\n",
       "    .dataframe thead th {\n",
       "        text-align: right;\n",
       "    }\n",
       "</style>\n",
       "<table border=\"1\" class=\"dataframe\">\n",
       "  <thead>\n",
       "    <tr style=\"text-align: right;\">\n",
       "      <th></th>\n",
       "      <th>Comments</th>\n",
       "      <th>author</th>\n",
       "      <th>updated Times</th>\n",
       "      <th>char length</th>\n",
       "      <th>word length</th>\n",
       "      <th>sentimensts</th>\n",
       "    </tr>\n",
       "  </thead>\n",
       "  <tbody>\n",
       "    <tr>\n",
       "      <th>0</th>\n",
       "      <td>Кто из 2051?</td>\n",
       "      <td>Seva178</td>\n",
       "      <td>2020-08-26T07:42:33Z</td>\n",
       "      <td>12</td>\n",
       "      <td>3</td>\n",
       "      <td>neutral</td>\n",
       "    </tr>\n",
       "    <tr>\n",
       "      <th>1</th>\n",
       "      <td>Моя мечта</td>\n",
       "      <td>Crystal 5000</td>\n",
       "      <td>2020-08-21T23:57:35Z</td>\n",
       "      <td>9</td>\n",
       "      <td>2</td>\n",
       "      <td>positive</td>\n",
       "    </tr>\n",
       "    <tr>\n",
       "      <th>2</th>\n",
       "      <td>бомба самчик.........</td>\n",
       "      <td>Ирина Ирина</td>\n",
       "      <td>2020-08-21T14:04:18Z</td>\n",
       "      <td>21</td>\n",
       "      <td>2</td>\n",
       "      <td>skip</td>\n",
       "    </tr>\n",
       "    <tr>\n",
       "      <th>3</th>\n",
       "      <td>Вроде бы неделю назад вышел оказывается год назад</td>\n",
       "      <td>Мадияр Кинеев</td>\n",
       "      <td>2020-08-21T12:44:25Z</td>\n",
       "      <td>49</td>\n",
       "      <td>8</td>\n",
       "      <td>neutral</td>\n",
       "    </tr>\n",
       "    <tr>\n",
       "      <th>4</th>\n",
       "      <td>Хороший телефон</td>\n",
       "      <td>Эмиль Исаев</td>\n",
       "      <td>2020-08-20T17:10:08Z</td>\n",
       "      <td>15</td>\n",
       "      <td>2</td>\n",
       "      <td>positive</td>\n",
       "    </tr>\n",
       "    <tr>\n",
       "      <th>...</th>\n",
       "      <td>...</td>\n",
       "      <td>...</td>\n",
       "      <td>...</td>\n",
       "      <td>...</td>\n",
       "      <td>...</td>\n",
       "      <td>...</td>\n",
       "    </tr>\n",
       "    <tr>\n",
       "      <th>266595</th>\n",
       "      <td>Дарова</td>\n",
       "      <td>Foster228 ;D</td>\n",
       "      <td>2019-04-16T10:00:38Z</td>\n",
       "      <td>6</td>\n",
       "      <td>1</td>\n",
       "      <td>speech</td>\n",
       "    </tr>\n",
       "    <tr>\n",
       "      <th>266596</th>\n",
       "      <td>Я первый</td>\n",
       "      <td>Валерий Герасименко</td>\n",
       "      <td>2019-04-16T10:00:35Z</td>\n",
       "      <td>8</td>\n",
       "      <td>2</td>\n",
       "      <td>neutral</td>\n",
       "    </tr>\n",
       "    <tr>\n",
       "      <th>266597</th>\n",
       "      <td>1</td>\n",
       "      <td>Никита Дедюхин</td>\n",
       "      <td>2019-04-16T10:00:34Z</td>\n",
       "      <td>1</td>\n",
       "      <td>1</td>\n",
       "      <td>neutral</td>\n",
       "    </tr>\n",
       "    <tr>\n",
       "      <th>266598</th>\n",
       "      <td>Кайф</td>\n",
       "      <td>ARTHUR SHAKIROV</td>\n",
       "      <td>2019-04-16T10:00:32Z</td>\n",
       "      <td>4</td>\n",
       "      <td>1</td>\n",
       "      <td>positive</td>\n",
       "    </tr>\n",
       "    <tr>\n",
       "      <th>266599</th>\n",
       "      <td>Первый</td>\n",
       "      <td>Fr1des</td>\n",
       "      <td>2019-04-16T10:00:58Z</td>\n",
       "      <td>6</td>\n",
       "      <td>1</td>\n",
       "      <td>neutral</td>\n",
       "    </tr>\n",
       "  </tbody>\n",
       "</table>\n",
       "<p>260687 rows × 6 columns</p>\n",
       "</div>"
      ],
      "text/plain": [
       "                                                 Comments  \\\n",
       "0       Кто из 2051?                                        \n",
       "1       Моя мечта                                           \n",
       "2       бомба самчик.........                               \n",
       "3       Вроде бы неделю назад вышел оказывается год назад   \n",
       "4       Хороший телефон                                     \n",
       "...                 ...                                     \n",
       "266595  Дарова                                              \n",
       "266596  Я первый                                            \n",
       "266597  1                                                   \n",
       "266598  Кайф                                                \n",
       "266599  Первый                                              \n",
       "\n",
       "                     author         updated Times  char length  word length  \\\n",
       "0       Seva178              2020-08-26T07:42:33Z  12           3             \n",
       "1       Crystal 5000         2020-08-21T23:57:35Z  9            2             \n",
       "2       Ирина Ирина          2020-08-21T14:04:18Z  21           2             \n",
       "3       Мадияр Кинеев        2020-08-21T12:44:25Z  49           8             \n",
       "4       Эмиль Исаев          2020-08-20T17:10:08Z  15           2             \n",
       "...             ...                           ...  ..          ..             \n",
       "266595  Foster228 ;D         2019-04-16T10:00:38Z  6            1             \n",
       "266596  Валерий Герасименко  2019-04-16T10:00:35Z  8            2             \n",
       "266597  Никита Дедюхин       2019-04-16T10:00:34Z  1            1             \n",
       "266598  ARTHUR SHAKIROV      2019-04-16T10:00:32Z  4            1             \n",
       "266599  Fr1des               2019-04-16T10:00:58Z  6            1             \n",
       "\n",
       "       sentimensts  \n",
       "0       neutral     \n",
       "1       positive    \n",
       "2       skip        \n",
       "3       neutral     \n",
       "4       positive    \n",
       "...          ...    \n",
       "266595  speech      \n",
       "266596  neutral     \n",
       "266597  neutral     \n",
       "266598  positive    \n",
       "266599  neutral     \n",
       "\n",
       "[260687 rows x 6 columns]"
      ]
     },
     "execution_count": 282,
     "metadata": {},
     "output_type": "execute_result"
    }
   ],
   "source": [
    "df #260687 rows × 5 columns"
   ]
  },
  {
   "cell_type": "markdown",
   "metadata": {},
   "source": [
    "### Remove comments"
   ]
  },
  {
   "cell_type": "code",
   "execution_count": 283,
   "metadata": {},
   "outputs": [
    {
     "name": "stdout",
     "output_type": "stream",
     "text": [
      "The average number of words in a document is: 4.962103979101374.\n",
      "The minimum number of words in a document is: 1.\n",
      "The maximum number of words in a document is: 662.\n"
     ]
    }
   ],
   "source": [
    "print(\"The average number of words in a document is: {}.\".format(np.mean(df['word length'].values)))\n",
    "print(\"The minimum number of words in a document is: {}.\".format(min(df['word length'].values)))\n",
    "print(\"The maximum number of words in a document is: {}.\".format(max(df['word length'].values)))"
   ]
  },
  {
   "cell_type": "code",
   "execution_count": 284,
   "metadata": {},
   "outputs": [
    {
     "data": {
      "image/png": "[encoded data removed]",
      "text/plain": [
       "<Figure size 1080x432 with 1 Axes>"
      ]
     },
     "metadata": {
      "needs_background": "light"
     },
     "output_type": "display_data"
    },
    {
     "data": {
      "image/png": "[encoded data removed]",
      "text/plain": [
       "<Figure size 1080x432 with 1 Axes>"
      ]
     },
     "metadata": {
      "needs_background": "light"
     },
     "output_type": "display_data"
    }
   ],
   "source": [
    "fig, ax = plt.subplots(figsize=(15,6))\n",
    "\n",
    "ax.set_title(\"Distribution of number of words\", fontsize=16)\n",
    "ax.set_xlabel(\"Number of words\")\n",
    "sns.distplot(df['word length'].values, bins=50, ax=ax);\n",
    "\n",
    "fig, ax = plt.subplots(figsize=(15,6))\n",
    "\n",
    "ax.set_title(\"Distribution of number of chars\", fontsize=16)\n",
    "ax.set_xlabel(\"Number of chars\")\n",
    "sns.distplot(df['char length'].values, bins=50, ax=ax);"
   ]
  },
  {
   "cell_type": "code",
   "execution_count": 285,
   "metadata": {},
   "outputs": [
    {
     "name": "stdout",
     "output_type": "stream",
     "text": [
      "There are 9606 documents with over 1000 and less then 3 chars.\n"
     ]
    }
   ],
   "source": [
    "mask = (df['char length'] < 3) | (df['char length'] > 1000)\n",
    "\n",
    "print(\"There are {} documents with over 1000 and less then 3 chars.\".format(sum(mask == True)))\n",
    "\n",
    "df = df[-mask]"
   ]
  },
  {
   "cell_type": "code",
   "execution_count": 287,
   "metadata": {},
   "outputs": [
    {
     "data": {
      "image/png": "[encoded data removed]",
      "text/plain": [
       "<Figure size 1080x432 with 1 Axes>"
      ]
     },
     "metadata": {
      "needs_background": "light"
     },
     "output_type": "display_data"
    }
   ],
   "source": [
    "fig, ax = plt.subplots(figsize=(15,6))\n",
    "\n",
    "ax.set_title(\"Distribution of number of chars\", fontsize=16)\n",
    "ax.set_xlabel(\"Number of chars\")\n",
    "sns.distplot(df['char length'].values, bins=50, ax=ax);"
   ]
  },
  {
   "cell_type": "code",
   "execution_count": 288,
   "metadata": {},
   "outputs": [
    {
     "name": "stdout",
     "output_type": "stream",
     "text": [
      "There are 67 comments with over 200 words.\n"
     ]
    }
   ],
   "source": [
    "print(\"There are {} comments with over 200 words.\".format(sum(df['word length'] > 100)))\n",
    "\n",
    "mask = df['word length'] > 100\n",
    "df = df[-mask]\n",
    "df = df.set_index(np.arange(len(df.index)))"
   ]
  },
  {
   "cell_type": "code",
   "execution_count": 289,
   "metadata": {},
   "outputs": [
    {
     "data": {
      "image/png": "[encoded data removed]",
      "text/plain": [
       "<Figure size 1080x432 with 1 Axes>"
      ]
     },
     "metadata": {
      "needs_background": "light"
     },
     "output_type": "display_data"
    }
   ],
   "source": [
    "fig, ax = plt.subplots(figsize=(15,6))\n",
    "\n",
    "ax.set_title(\"Distribution of number of words\", fontsize=16)\n",
    "ax.set_xlabel(\"Number of words\")\n",
    "sns.distplot(df['word length'].values, bins=50, ax=ax);"
   ]
  },
  {
   "cell_type": "code",
   "execution_count": 290,
   "metadata": {},
   "outputs": [
    {
     "data": {
      "text/html": [
       "<div>\n",
       "<style scoped>\n",
       "    .dataframe tbody tr th:only-of-type {\n",
       "        vertical-align: middle;\n",
       "    }\n",
       "\n",
       "    .dataframe tbody tr th {\n",
       "        vertical-align: top;\n",
       "    }\n",
       "\n",
       "    .dataframe thead th {\n",
       "        text-align: right;\n",
       "    }\n",
       "</style>\n",
       "<table border=\"1\" class=\"dataframe\">\n",
       "  <thead>\n",
       "    <tr style=\"text-align: right;\">\n",
       "      <th></th>\n",
       "      <th>Comments</th>\n",
       "      <th>author</th>\n",
       "      <th>updated Times</th>\n",
       "      <th>char length</th>\n",
       "      <th>word length</th>\n",
       "      <th>sentimensts</th>\n",
       "    </tr>\n",
       "  </thead>\n",
       "  <tbody>\n",
       "    <tr>\n",
       "      <th>0</th>\n",
       "      <td>Кто из 2051?</td>\n",
       "      <td>Seva178</td>\n",
       "      <td>2020-08-26T07:42:33Z</td>\n",
       "      <td>12</td>\n",
       "      <td>3</td>\n",
       "      <td>neutral</td>\n",
       "    </tr>\n",
       "    <tr>\n",
       "      <th>1</th>\n",
       "      <td>Моя мечта</td>\n",
       "      <td>Crystal 5000</td>\n",
       "      <td>2020-08-21T23:57:35Z</td>\n",
       "      <td>9</td>\n",
       "      <td>2</td>\n",
       "      <td>positive</td>\n",
       "    </tr>\n",
       "    <tr>\n",
       "      <th>2</th>\n",
       "      <td>бомба самчик.........</td>\n",
       "      <td>Ирина Ирина</td>\n",
       "      <td>2020-08-21T14:04:18Z</td>\n",
       "      <td>21</td>\n",
       "      <td>2</td>\n",
       "      <td>skip</td>\n",
       "    </tr>\n",
       "    <tr>\n",
       "      <th>3</th>\n",
       "      <td>Вроде бы неделю назад вышел оказывается год назад</td>\n",
       "      <td>Мадияр Кинеев</td>\n",
       "      <td>2020-08-21T12:44:25Z</td>\n",
       "      <td>49</td>\n",
       "      <td>8</td>\n",
       "      <td>neutral</td>\n",
       "    </tr>\n",
       "    <tr>\n",
       "      <th>4</th>\n",
       "      <td>Хороший телефон</td>\n",
       "      <td>Эмиль Исаев</td>\n",
       "      <td>2020-08-20T17:10:08Z</td>\n",
       "      <td>15</td>\n",
       "      <td>2</td>\n",
       "      <td>positive</td>\n",
       "    </tr>\n",
       "    <tr>\n",
       "      <th>...</th>\n",
       "      <td>...</td>\n",
       "      <td>...</td>\n",
       "      <td>...</td>\n",
       "      <td>...</td>\n",
       "      <td>...</td>\n",
       "      <td>...</td>\n",
       "    </tr>\n",
       "    <tr>\n",
       "      <th>251009</th>\n",
       "      <td>Наконец-то!</td>\n",
       "      <td>Viktor 887888</td>\n",
       "      <td>2019-04-16T10:00:41Z</td>\n",
       "      <td>11</td>\n",
       "      <td>1</td>\n",
       "      <td>positive</td>\n",
       "    </tr>\n",
       "    <tr>\n",
       "      <th>251010</th>\n",
       "      <td>Дарова</td>\n",
       "      <td>Foster228 ;D</td>\n",
       "      <td>2019-04-16T10:00:38Z</td>\n",
       "      <td>6</td>\n",
       "      <td>1</td>\n",
       "      <td>speech</td>\n",
       "    </tr>\n",
       "    <tr>\n",
       "      <th>251011</th>\n",
       "      <td>Я первый</td>\n",
       "      <td>Валерий Герасименко</td>\n",
       "      <td>2019-04-16T10:00:35Z</td>\n",
       "      <td>8</td>\n",
       "      <td>2</td>\n",
       "      <td>neutral</td>\n",
       "    </tr>\n",
       "    <tr>\n",
       "      <th>251012</th>\n",
       "      <td>Кайф</td>\n",
       "      <td>ARTHUR SHAKIROV</td>\n",
       "      <td>2019-04-16T10:00:32Z</td>\n",
       "      <td>4</td>\n",
       "      <td>1</td>\n",
       "      <td>positive</td>\n",
       "    </tr>\n",
       "    <tr>\n",
       "      <th>251013</th>\n",
       "      <td>Первый</td>\n",
       "      <td>Fr1des</td>\n",
       "      <td>2019-04-16T10:00:58Z</td>\n",
       "      <td>6</td>\n",
       "      <td>1</td>\n",
       "      <td>neutral</td>\n",
       "    </tr>\n",
       "  </tbody>\n",
       "</table>\n",
       "<p>251014 rows × 6 columns</p>\n",
       "</div>"
      ],
      "text/plain": [
       "                                                 Comments  \\\n",
       "0       Кто из 2051?                                        \n",
       "1       Моя мечта                                           \n",
       "2       бомба самчик.........                               \n",
       "3       Вроде бы неделю назад вышел оказывается год назад   \n",
       "4       Хороший телефон                                     \n",
       "...                 ...                                     \n",
       "251009  Наконец-то!                                         \n",
       "251010  Дарова                                              \n",
       "251011  Я первый                                            \n",
       "251012  Кайф                                                \n",
       "251013  Первый                                              \n",
       "\n",
       "                     author         updated Times  char length  word length  \\\n",
       "0       Seva178              2020-08-26T07:42:33Z  12           3             \n",
       "1       Crystal 5000         2020-08-21T23:57:35Z  9            2             \n",
       "2       Ирина Ирина          2020-08-21T14:04:18Z  21           2             \n",
       "3       Мадияр Кинеев        2020-08-21T12:44:25Z  49           8             \n",
       "4       Эмиль Исаев          2020-08-20T17:10:08Z  15           2             \n",
       "...             ...                           ...  ..          ..             \n",
       "251009  Viktor 887888        2019-04-16T10:00:41Z  11           1             \n",
       "251010  Foster228 ;D         2019-04-16T10:00:38Z  6            1             \n",
       "251011  Валерий Герасименко  2019-04-16T10:00:35Z  8            2             \n",
       "251012  ARTHUR SHAKIROV      2019-04-16T10:00:32Z  4            1             \n",
       "251013  Fr1des               2019-04-16T10:00:58Z  6            1             \n",
       "\n",
       "       sentimensts  \n",
       "0       neutral     \n",
       "1       positive    \n",
       "2       skip        \n",
       "3       neutral     \n",
       "4       positive    \n",
       "...          ...    \n",
       "251009  positive    \n",
       "251010  speech      \n",
       "251011  neutral     \n",
       "251012  positive    \n",
       "251013  neutral     \n",
       "\n",
       "[251014 rows x 6 columns]"
      ]
     },
     "execution_count": 290,
     "metadata": {},
     "output_type": "execute_result"
    }
   ],
   "source": [
    "df #251081"
   ]
  },
  {
   "cell_type": "markdown",
   "metadata": {},
   "source": [
    "# Topic extraction "
   ]
  },
  {
   "cell_type": "markdown",
   "metadata": {},
   "source": [
    "Using Elmo embedder "
   ]
  },
  {
   "cell_type": "code",
   "execution_count": 21,
   "metadata": {},
   "outputs": [
    {
     "name": "stderr",
     "output_type": "stream",
     "text": [
      "[nltk_data] Downloading package punkt to /home/aigaf/nltk_data...\n",
      "[nltk_data]   Package punkt is already up-to-date!\n",
      "[nltk_data] Downloading package stopwords to /home/aigaf/nltk_data...\n",
      "[nltk_data]   Package stopwords is already up-to-date!\n",
      "[nltk_data] Downloading package perluniprops to\n",
      "[nltk_data]     /home/aigaf/nltk_data...\n",
      "[nltk_data]   Package perluniprops is already up-to-date!\n",
      "[nltk_data] Downloading package nonbreaking_prefixes to\n",
      "[nltk_data]     /home/aigaf/nltk_data...\n",
      "[nltk_data]   Package nonbreaking_prefixes is already up-to-date!\n"
     ]
    },
    {
     "name": "stdout",
     "output_type": "stream",
     "text": [
      "WARNING:tensorflow:From /home/aigaf/.local/lib/python3.7/site-packages/deeppavlov/models/embedders/elmo_embedder.py:186: The name tf.ConfigProto is deprecated. Please use tf.compat.v1.ConfigProto instead.\n",
      "\n"
     ]
    },
    {
     "name": "stderr",
     "output_type": "stream",
     "text": [
      "WARNING:tensorflow:From /home/aigaf/.local/lib/python3.7/site-packages/deeppavlov/models/embedders/elmo_embedder.py:186: The name tf.ConfigProto is deprecated. Please use tf.compat.v1.ConfigProto instead.\n",
      "\n"
     ]
    },
    {
     "name": "stdout",
     "output_type": "stream",
     "text": [
      "WARNING:tensorflow:From /home/aigaf/.local/lib/python3.7/site-packages/deeppavlov/models/embedders/elmo_embedder.py:188: The name tf.Session is deprecated. Please use tf.compat.v1.Session instead.\n",
      "\n"
     ]
    },
    {
     "name": "stderr",
     "output_type": "stream",
     "text": [
      "WARNING:tensorflow:From /home/aigaf/.local/lib/python3.7/site-packages/deeppavlov/models/embedders/elmo_embedder.py:188: The name tf.Session is deprecated. Please use tf.compat.v1.Session instead.\n",
      "\n"
     ]
    },
    {
     "name": "stdout",
     "output_type": "stream",
     "text": [
      "WARNING:tensorflow:From /home/aigaf/.local/lib/python3.7/site-packages/deeppavlov/models/embedders/elmo_embedder.py:190: The name tf.placeholder is deprecated. Please use tf.compat.v1.placeholder instead.\n",
      "\n"
     ]
    },
    {
     "name": "stderr",
     "output_type": "stream",
     "text": [
      "WARNING:tensorflow:From /home/aigaf/.local/lib/python3.7/site-packages/deeppavlov/models/embedders/elmo_embedder.py:190: The name tf.placeholder is deprecated. Please use tf.compat.v1.placeholder instead.\n",
      "\n"
     ]
    },
    {
     "name": "stdout",
     "output_type": "stream",
     "text": [
      "INFO:tensorflow:Saver not created because there are no variables in the graph to restore\n"
     ]
    },
    {
     "name": "stderr",
     "output_type": "stream",
     "text": [
      "INFO:tensorflow:Saver not created because there are no variables in the graph to restore\n"
     ]
    },
    {
     "name": "stdout",
     "output_type": "stream",
     "text": [
      "WARNING:tensorflow:From /home/aigaf/.local/lib/python3.7/site-packages/deeppavlov/models/embedders/elmo_embedder.py:198: The name tf.global_variables_initializer is deprecated. Please use tf.compat.v1.global_variables_initializer instead.\n",
      "\n"
     ]
    },
    {
     "name": "stderr",
     "output_type": "stream",
     "text": [
      "WARNING:tensorflow:From /home/aigaf/.local/lib/python3.7/site-packages/deeppavlov/models/embedders/elmo_embedder.py:198: The name tf.global_variables_initializer is deprecated. Please use tf.compat.v1.global_variables_initializer instead.\n",
      "\n"
     ]
    }
   ],
   "source": [
    "from deeppavlov.models.embedders.elmo_embedder import ELMoEmbedder\n",
    "#elmo = ELMoEmbedder(\"http://files.deeppavlov.ai/deeppavlov_data/elmo_ru-twitter_2013-01_2018-04_600k_steps.tar.gz\")\n"
   ]
  },
  {
   "cell_type": "code",
   "execution_count": 46,
   "metadata": {},
   "outputs": [
    {
     "name": "stdout",
     "output_type": "stream",
     "text": [
      "CPU times: user 1d 3h 59min 38s, sys: 41min 34s, total: 1d 4h 41min 13s\n",
      "Wall time: 4h 15min 8s\n"
     ]
    }
   ],
   "source": [
    "%%time\n",
    "#matrix = elmo(sents, signature=\"default\", as_dict=True)"
   ]
  },
  {
   "cell_type": "code",
   "execution_count": 47,
   "metadata": {},
   "outputs": [],
   "source": [
    "#with open('ElmoValuesV2.data', 'wb') as filehandle:\n",
    "    # store the data as binary data stream\n",
    "#    pickle.dump(matrix, filehandle)"
   ]
  },
  {
   "cell_type": "markdown",
   "metadata": {},
   "source": [
    "Read matrix values"
   ]
  },
  {
   "cell_type": "code",
   "execution_count": 178,
   "metadata": {},
   "outputs": [],
   "source": [
    "with open('ElmoValuesV2.data', 'rb') as filehandle:\n",
    "    # read the data as binary data stream\n",
    "    matrix = pickle.load(filehandle)"
   ]
  },
  {
   "cell_type": "markdown",
   "metadata": {},
   "source": [
    "LDA doesn't work with  negative numbers. Trying to fix it"
   ]
  },
  {
   "cell_type": "code",
   "execution_count": 180,
   "metadata": {},
   "outputs": [],
   "source": [
    "v = [min(i) for i in matrix] \n",
    "min_v = min(v)# Looking for a smallest number"
   ]
  },
  {
   "cell_type": "code",
   "execution_count": 182,
   "metadata": {},
   "outputs": [
    {
     "name": "stdout",
     "output_type": "stream",
     "text": [
      "CPU times: user 2min 11s, sys: 5.4 s, total: 2min 16s\n",
      "Wall time: 2min 16s\n"
     ]
    }
   ],
   "source": [
    "%%time\n",
    "fixed_val = []\n",
    "for lst in matrix:\n",
    "    tem_lst = []\n",
    "    for i in lst:\n",
    "        tem_lst.append(i + abs(min_v)) # add the smallest number\n",
    "    fixed_val.append(tem_lst)\n",
    "    \n",
    "fixed_val = np.asarray(fixed_val) "
   ]
  },
  {
   "cell_type": "code",
   "execution_count": 68,
   "metadata": {},
   "outputs": [],
   "source": [
    "#with open('ElmoSentencesV2.data', 'wb') as filehandle:\n",
    "    # store the data as binary data stream\n",
    "#    pickle.dump(clean_comments, filehandle)"
   ]
  },
  {
   "cell_type": "code",
   "execution_count": 188,
   "metadata": {},
   "outputs": [],
   "source": [
    "with open('ElmoSentencesV2.data', 'rb') as filehandle:\n",
    "    # store the data as binary data stream\n",
    "    clean_comments = pickle.load(filehandle)"
   ]
  },
  {
   "cell_type": "code",
   "execution_count": 192,
   "metadata": {},
   "outputs": [],
   "source": [
    "sents = [i.split() for i in clean_comments]"
   ]
  },
  {
   "cell_type": "code",
   "execution_count": 195,
   "metadata": {},
   "outputs": [],
   "source": [
    "lsa_model = TruncatedSVD(n_components=5)\n",
    "lsa_topic_matrix = lsa_model.fit_transform(matrix)"
   ]
  },
  {
   "cell_type": "markdown",
   "metadata": {},
   "source": [
    "### Extract comments after LSA"
   ]
  },
  {
   "cell_type": "code",
   "execution_count": 197,
   "metadata": {},
   "outputs": [
    {
     "name": "stdout",
     "output_type": "stream",
     "text": [
      "Topic 0: \n",
      "['дааа', 'давненько', 'я', 'ничего', 'не', 'хотел', 'так', 'как', 'этот', 'девайс'] ['мне', 'нравится', 'самсунг'] ['это', 'очень', 'крутой', 'и', 'современный', 'телефон'] ['«', 'пытаюсь', 'себя', 'заставить', 'поверить', 'в', 'то', 'что', 'он', 'выглядит', 'охренительно', '»'] ['бомба', 'самчик'] \n",
      "\n",
      "Topic 1: \n",
      "['я', 'не', 'правилно', 'прочитал', 'думал', 'форд', 'галакси'] ['купил', 'в', 'дубае', 'за', 'камера', 'такой', 'шлак', 'как', 'на', 'дешёвых', 'китайских', 'смартфонах', 'уже', 'думаю', 'продать'] ['так', 'я', 'снова', 'пересматриваю', 'и', 'у', 'меня', 'появился', 'вопрос', 'галакси', 'фолд', 'это', 'дяс', 'чем', 'считается', 'планшет', 'или', 'телефон', 'когда', 'открываешь', 'он', 'в', 'развернутом', 'виде', 'тоесть', 'щяс', 'как', 'понять'] ['это', 'орудие', 'убийства'] ['пау', 'пау', 'угораю'] \n",
      "\n",
      "Topic 2: \n",
      "['ждём', 'от', 'самсунг', 'теперь', 'телевизор', 'дюймов', 'который', 'можно', 'свернуть', 'и', 'в', 'корман', 'убрать'] ['куда', 'уж', 'дальше', 'пойдёт', 'самсунг', 'чего', 'только', 'не', 'придумают'] ['жду', 'жду', 'с', 'нетерпением'] ['парню', 'подлечиться', 'надо', 'но', 'адептов', 'много', 'деньги', 'есть'] ['это', 'лучший', 'девайс', 'для', 'просмотра', 'сорис', 'в', 'инстаграме', 'уууу', 'ааа', 'ааа', 'инстаграм', 'это', 'помойка'] \n",
      "\n",
      "Topic 3: \n",
      "['теребить', 'в', 'руках'] ['отличный', 'патифон'] ['телефон', 'который', 'будет', 'делать', 'за', 'тебя', 'уборку', 'по', 'дому', 'и', 'домашку'] ['шаг', 'в', 'будущее', 'главное', 'чтоб', 'иновация', 'шла', 'параллельно', 'с', 'экологией', 'самсунг', 'это', 'предусмотрел'] ['интересно', 'какие', 'телефоны', 'лет', 'через', 'будут'] \n",
      "\n",
      "Topic 4: \n",
      "['ребят', 'я', 'не', 'в', 'теме', 'фолд', 'вроде', 'переиздали', 'а', 'это', 'новая', 'версия'] ['а', 'что', 'будет', 'если', 'согнуть', 'его', 'наоборот'] ['а', 'шо', 'такое', 'существует', 'то', 'чувство', 'когда', 'у', 'тебя', 'самсунг', 'галакси', 'а30s'] ['оч', 'крутой', 'самсунг'] ['thanks'] \n",
      "\n"
     ]
    }
   ],
   "source": [
    "for i, comp in enumerate(lsa_model.components_):\n",
    "    vocab_comp = zip(sents, comp)\n",
    "    sorted_words = sorted(vocab_comp, key= lambda x:x[1])[:5]\n",
    "    print(\"Topic \"+str(i)+\": \")\n",
    "    for t in sorted_words:\n",
    "        print(t[0],end=\" \")\n",
    "    print(\"\\n\")"
   ]
  },
  {
   "cell_type": "code",
   "execution_count": null,
   "metadata": {},
   "outputs": [],
   "source": [
    "%%time\n",
    "df = clean_comments(df)\n",
    "df = lemmatize(df)"
   ]
  },
  {
   "cell_type": "code",
   "execution_count": 124,
   "metadata": {},
   "outputs": [],
   "source": [
    "lemmatized_comments = [i for i in df['text lemmatized'].values if i != '']# Remove '' from dataFrame"
   ]
  },
  {
   "cell_type": "markdown",
   "metadata": {},
   "source": [
    "### Extract topics after LDA"
   ]
  },
  {
   "cell_type": "code",
   "execution_count": 174,
   "metadata": {},
   "outputs": [
    {
     "name": "stdout",
     "output_type": "stream",
     "text": [
      "CPU times: user 2.12 s, sys: 0 ns, total: 2.12 s\n",
      "Wall time: 2.11 s\n"
     ]
    }
   ],
   "source": [
    "%%time\n",
    "CountVector = CountVectorizer(analyzer='word', min_df=100, max_df=0.80)\n",
    "tfIdfVect = TfidfVectorizer(max_df = 0.80, min_df = 100)\n",
    "\n",
    "X_tfidf = tfIdfVect.fit_transform(lemmatized_comments)\n",
    "X_count = CountVector.fit_transform(lemmatized_comments)"
   ]
  },
  {
   "cell_type": "code",
   "execution_count": 175,
   "metadata": {},
   "outputs": [
    {
     "name": "stdout",
     "output_type": "stream",
     "text": [
      "CPU times: user 11.5 s, sys: 120 ms, total: 11.6 s\n",
      "Wall time: 2min 45s\n"
     ]
    },
    {
     "data": {
      "text/html": [
       "<div>\n",
       "<style scoped>\n",
       "    .dataframe tbody tr th:only-of-type {\n",
       "        vertical-align: middle;\n",
       "    }\n",
       "\n",
       "    .dataframe tbody tr th {\n",
       "        vertical-align: top;\n",
       "    }\n",
       "\n",
       "    .dataframe thead th {\n",
       "        text-align: right;\n",
       "    }\n",
       "</style>\n",
       "<table border=\"1\" class=\"dataframe\">\n",
       "  <thead>\n",
       "    <tr style=\"text-align: right;\">\n",
       "      <th></th>\n",
       "      <th>Word 0</th>\n",
       "      <th>Word 1</th>\n",
       "      <th>Word 2</th>\n",
       "      <th>Word 3</th>\n",
       "      <th>Word 4</th>\n",
       "      <th>Word 5</th>\n",
       "      <th>Word 6</th>\n",
       "      <th>Word 7</th>\n",
       "      <th>Word 8</th>\n",
       "      <th>Word 9</th>\n",
       "    </tr>\n",
       "  </thead>\n",
       "  <tbody>\n",
       "    <tr>\n",
       "      <th>Topic 0</th>\n",
       "      <td>телефон</td>\n",
       "      <td>круто</td>\n",
       "      <td>просто</td>\n",
       "      <td>будущее</td>\n",
       "      <td>ждать</td>\n",
       "      <td>раскладушка</td>\n",
       "      <td>давать</td>\n",
       "      <td>супер</td>\n",
       "      <td>бомба</td>\n",
       "      <td>классный</td>\n",
       "    </tr>\n",
       "    <tr>\n",
       "      <th>Topic 1</th>\n",
       "      <td>хотеть</td>\n",
       "      <td>крутой</td>\n",
       "      <td>очень</td>\n",
       "      <td>телефон</td>\n",
       "      <td>fold</td>\n",
       "      <td>топ</td>\n",
       "      <td>обзор</td>\n",
       "      <td>аппарат</td>\n",
       "      <td>galaxy</td>\n",
       "      <td>фолд</td>\n",
       "    </tr>\n",
       "    <tr>\n",
       "      <th>Topic 2</th>\n",
       "      <td>хороший</td>\n",
       "      <td>интересно</td>\n",
       "      <td>удача</td>\n",
       "      <td>вилс</td>\n",
       "      <td>интересный</td>\n",
       "      <td>повезти</td>\n",
       "      <td>девайс</td>\n",
       "      <td>хотеться</td>\n",
       "      <td>смартфон</td>\n",
       "      <td>штука</td>\n",
       "    </tr>\n",
       "    <tr>\n",
       "      <th>Topic 3</th>\n",
       "      <td>выигрывать</td>\n",
       "      <td>самсунг</td>\n",
       "      <td>участвовать</td>\n",
       "      <td>комментарий</td>\n",
       "      <td>валя</td>\n",
       "      <td>экран</td>\n",
       "      <td>технология</td>\n",
       "      <td>класс</td>\n",
       "      <td>год</td>\n",
       "      <td>смотреть</td>\n",
       "    </tr>\n",
       "  </tbody>\n",
       "</table>\n",
       "</div>"
      ],
      "text/plain": [
       "             Word 0     Word 1       Word 2       Word 3      Word 4  \\\n",
       "Topic 0  телефон     круто      просто       будущее      ждать        \n",
       "Topic 1  хотеть      крутой     очень        телефон      fold         \n",
       "Topic 2  хороший     интересно  удача        вилс         интересный   \n",
       "Topic 3  выигрывать  самсунг    участвовать  комментарий  валя         \n",
       "\n",
       "              Word 5      Word 6    Word 7    Word 8    Word 9  \n",
       "Topic 0  раскладушка  давать      супер     бомба     классный  \n",
       "Topic 1  топ          обзор       аппарат   galaxy    фолд      \n",
       "Topic 2  повезти      девайс      хотеться  смартфон  штука     \n",
       "Topic 3  экран        технология  класс     год       смотреть  "
      ]
     },
     "execution_count": 175,
     "metadata": {},
     "output_type": "execute_result"
    }
   ],
   "source": [
    "%%time\n",
    "lda_count = LatentDirichletAllocation(n_components=4, random_state=42, n_jobs = 4)\n",
    "lda_count.fit(X_count)\n",
    "\n",
    "show_topics(vectorizer=CountVector, lda_model=lda_count, n_words=10)     "
   ]
  },
  {
   "cell_type": "code",
   "execution_count": 176,
   "metadata": {},
   "outputs": [
    {
     "name": "stdout",
     "output_type": "stream",
     "text": [
      "CPU times: user 9.61 s, sys: 149 ms, total: 9.76 s\n",
      "Wall time: 2min 17s\n"
     ]
    },
    {
     "data": {
      "text/html": [
       "<div>\n",
       "<style scoped>\n",
       "    .dataframe tbody tr th:only-of-type {\n",
       "        vertical-align: middle;\n",
       "    }\n",
       "\n",
       "    .dataframe tbody tr th {\n",
       "        vertical-align: top;\n",
       "    }\n",
       "\n",
       "    .dataframe thead th {\n",
       "        text-align: right;\n",
       "    }\n",
       "</style>\n",
       "<table border=\"1\" class=\"dataframe\">\n",
       "  <thead>\n",
       "    <tr style=\"text-align: right;\">\n",
       "      <th></th>\n",
       "      <th>Word 0</th>\n",
       "      <th>Word 1</th>\n",
       "      <th>Word 2</th>\n",
       "      <th>Word 3</th>\n",
       "      <th>Word 4</th>\n",
       "      <th>Word 5</th>\n",
       "      <th>Word 6</th>\n",
       "      <th>Word 7</th>\n",
       "      <th>Word 8</th>\n",
       "      <th>Word 9</th>\n",
       "    </tr>\n",
       "  </thead>\n",
       "  <tbody>\n",
       "    <tr>\n",
       "      <th>Topic 0</th>\n",
       "      <td>круто</td>\n",
       "      <td>выигрывать</td>\n",
       "      <td>телефон</td>\n",
       "      <td>будущее</td>\n",
       "      <td>давать</td>\n",
       "      <td>супер</td>\n",
       "      <td>ждать</td>\n",
       "      <td>раскладушка</td>\n",
       "      <td>просто</td>\n",
       "      <td>классный</td>\n",
       "    </tr>\n",
       "    <tr>\n",
       "      <th>Topic 1</th>\n",
       "      <td>хотеть</td>\n",
       "      <td>крутой</td>\n",
       "      <td>fold</td>\n",
       "      <td>топ</td>\n",
       "      <td>телефон</td>\n",
       "      <td>огонь</td>\n",
       "      <td>аппарат</td>\n",
       "      <td>фолд</td>\n",
       "      <td>galaxy</td>\n",
       "      <td>обзор</td>\n",
       "    </tr>\n",
       "    <tr>\n",
       "      <th>Topic 2</th>\n",
       "      <td>удача</td>\n",
       "      <td>хороший</td>\n",
       "      <td>интересно</td>\n",
       "      <td>повезти</td>\n",
       "      <td>вилс</td>\n",
       "      <td>интересный</td>\n",
       "      <td>девайс</td>\n",
       "      <td>привет</td>\n",
       "      <td>хотеться</td>\n",
       "      <td>смартфон</td>\n",
       "    </tr>\n",
       "    <tr>\n",
       "      <th>Topic 3</th>\n",
       "      <td>участвовать</td>\n",
       "      <td>самсунг</td>\n",
       "      <td>комментарий</td>\n",
       "      <td>класс</td>\n",
       "      <td>бомба</td>\n",
       "      <td>валя</td>\n",
       "      <td>технология</td>\n",
       "      <td>телефон</td>\n",
       "      <td>новый</td>\n",
       "      <td>айфон</td>\n",
       "    </tr>\n",
       "  </tbody>\n",
       "</table>\n",
       "</div>"
      ],
      "text/plain": [
       "              Word 0      Word 1       Word 2   Word 3   Word 4      Word 5  \\\n",
       "Topic 0  круто        выигрывать  телефон      будущее  давать   супер        \n",
       "Topic 1  хотеть       крутой      fold         топ      телефон  огонь        \n",
       "Topic 2  удача        хороший     интересно    повезти  вилс     интересный   \n",
       "Topic 3  участвовать  самсунг     комментарий  класс    бомба    валя         \n",
       "\n",
       "             Word 6       Word 7    Word 8    Word 9  \n",
       "Topic 0  ждать       раскладушка  просто    классный  \n",
       "Topic 1  аппарат     фолд         galaxy    обзор     \n",
       "Topic 2  девайс      привет       хотеться  смартфон  \n",
       "Topic 3  технология  телефон      новый     айфон     "
      ]
     },
     "execution_count": 176,
     "metadata": {},
     "output_type": "execute_result"
    }
   ],
   "source": [
    "%%time\n",
    "lda_tfidf = LatentDirichletAllocation(n_components=4, random_state=42, n_jobs = 4)\n",
    "lda_tfidf.fit(X_tfidf)\n",
    "\n",
    "show_topics(vectorizer=tfIdfVect, lda_model=lda_tfidf, n_words=10)   "
   ]
  },
  {
   "cell_type": "markdown",
   "metadata": {},
   "source": [
    "### How we can see extracting the topic is pretty bad for different models\n",
    "### We can try model BERT  from Deeppavlov + LDA:\n",
    "#### https://blog.insightdatascience.com/contextual-topic-identification-4291d256a032\n",
    "    "
   ]
  }
 ],
 "metadata": {
  "kernelspec": {
   "display_name": "Python 3",
   "language": "python",
   "name": "python3"
  },
  "language_info": {
   "codemirror_mode": {
    "name": "ipython",
    "version": 3
   },
   "file_extension": ".py",
   "mimetype": "text/x-python",
   "name": "python",
   "nbconvert_exporter": "python",
   "pygments_lexer": "ipython3",
   "version": "3.7.7"
  }
 },
 "nbformat": 4,
 "nbformat_minor": 4
}
